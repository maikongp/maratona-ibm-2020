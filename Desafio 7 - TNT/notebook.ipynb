{
  "nbformat": 4,
  "nbformat_minor": 0,
  "metadata": {
    "kernelspec": {
      "display_name": "Python 3.6",
      "language": "python",
      "name": "python3"
    },
    "language_info": {
      "codemirror_mode": {
        "name": "ipython",
        "version": 3
      },
      "file_extension": ".py",
      "mimetype": "text/x-python",
      "name": "python",
      "nbconvert_exporter": "python",
      "pygments_lexer": "ipython3",
      "version": "3.6.9"
    },
    "colab": {
      "name": "notebook.ipynb",
      "provenance": [],
      "collapsed_sections": [
        "SZbC9oOMCgh3",
        "N6fry1djCgi0",
        "e7xKgeR9Cgi9",
        "OFsLOwz1Cgjt",
        "OFazS3AxCgju",
        "ksVn7lVACgkB",
        "cc9ghG9zCgkV",
        "fN44nEV6CglL",
        "S_CosjgvCglj",
        "vu5N0KKlCgnE",
        "brObkFeJCgoJ"
      ]
    }
  },
  "cells": [
    {
      "cell_type": "code",
      "metadata": {
        "id": "TMYRxTgUCggX"
      },
      "source": [
        "# @hidden_cell\n",
        "# The project token is an authorization token that is used to access project resources like data sources, connections, and used by platform APIs.\n",
        "from project_lib import Project\n",
        "project = Project(project_id='', project_access_token='')\n",
        "pc = project.project_context"
      ],
      "execution_count": null,
      "outputs": []
    },
    {
      "cell_type": "markdown",
      "metadata": {
        "collapsed": true,
        "id": "MXxn51HaCggj"
      },
      "source": [
        "# MARATONA BEHIND THE CODE 2020\n",
        "\n",
        "## DESAFIO 7 - TNT"
      ]
    },
    {
      "cell_type": "markdown",
      "metadata": {
        "id": "bu0P2OeECggk"
      },
      "source": [
        "<hr>"
      ]
    },
    {
      "cell_type": "markdown",
      "metadata": {
        "id": "XWMvvJB3Cggm"
      },
      "source": [
        "## Installing Libs"
      ]
    },
    {
      "cell_type": "code",
      "metadata": {
        "id": "zz1p2OhmCggn"
      },
      "source": [
        "!pip install scikit-learn==0.20.3 --upgrade"
      ],
      "execution_count": null,
      "outputs": []
    },
    {
      "cell_type": "code",
      "metadata": {
        "id": "ivWfLqIdCgg3"
      },
      "source": [
        "!pip install xgboost==0.71 --upgrade"
      ],
      "execution_count": null,
      "outputs": []
    },
    {
      "cell_type": "code",
      "metadata": {
        "id": "Y-QUOreoCgg-"
      },
      "source": [
        "!pip install imblearn --upgrade"
      ],
      "execution_count": null,
      "outputs": []
    },
    {
      "cell_type": "markdown",
      "metadata": {
        "id": "jhTKhGQbCghG"
      },
      "source": [
        "<hr>"
      ]
    },
    {
      "cell_type": "markdown",
      "metadata": {
        "id": "HSLzA2FgCghH"
      },
      "source": [
        "## Download dos conjuntos de dados em formato .csv"
      ]
    },
    {
      "cell_type": "code",
      "metadata": {
        "id": "WnuAbRNLCghI"
      },
      "source": [
        "import pandas as pd\n",
        "from sklearn.metrics import accuracy_score, confusion_matrix, classification_report"
      ],
      "execution_count": null,
      "outputs": []
    },
    {
      "cell_type": "code",
      "metadata": {
        "id": "bHAY24wmCghP"
      },
      "source": [
        "# Insira aqui o pandasDataFrame.\n",
        "import types\n",
        "import pandas as pd\n",
        "from botocore.client import Config\n",
        "import ibm_boto3\n",
        "\n",
        "df_data_1 = pd.read_csv(body)\n",
        "df_training_dataset = df_data_1\n",
        "df_training_dataset.head()"
      ],
      "execution_count": null,
      "outputs": []
    },
    {
      "cell_type": "markdown",
      "metadata": {
        "id": "SgNDtprECghZ"
      },
      "source": [
        "Sobre o arquivo \"training_dataset.csv\", temos algumas informações gerais sobre os pontos de vendas da TNT:\n",
        "\n",
        "**Tempo**\n",
        "\n",
        "**Estação**\n",
        "\n",
        "**LAT**\n",
        "\n",
        "**LONG**\n",
        "\n",
        "**Movimentação**\n",
        "\n",
        "**Original_473**\n",
        "\n",
        "**Original_269**\n",
        "\n",
        "**Zero**\n",
        "\n",
        "**Maçã-Verde**\n",
        "\n",
        "**Tangerina**\n",
        "\n",
        "**Citrus**\n",
        "\n",
        "**Açaí-Guaraná**\n",
        "\n",
        "**Pêssego**\n",
        "\n",
        "**TARGET**"
      ]
    },
    {
      "cell_type": "markdown",
      "metadata": {
        "id": "djrK18cwCgha"
      },
      "source": [
        "## Removendo linhas duplicadas"
      ]
    },
    {
      "cell_type": "code",
      "metadata": {
        "id": "PjhkS0LyCghc"
      },
      "source": [
        "df_training_dataset.drop_duplicates(subset =\"row\", keep = \"first\", inplace = True)"
      ],
      "execution_count": null,
      "outputs": []
    },
    {
      "cell_type": "code",
      "metadata": {
        "id": "mrPyYNPsCghj"
      },
      "source": [
        "df_training_dataset.info()"
      ],
      "execution_count": null,
      "outputs": []
    },
    {
      "cell_type": "code",
      "metadata": {
        "id": "0ZxhopEVCghp"
      },
      "source": [
        "df_training_dataset.nunique()"
      ],
      "execution_count": null,
      "outputs": []
    },
    {
      "cell_type": "code",
      "metadata": {
        "id": "f-9NtfPtCghw"
      },
      "source": [
        "df_training_dataset.describe()"
      ],
      "execution_count": null,
      "outputs": []
    },
    {
      "cell_type": "markdown",
      "metadata": {
        "id": "SZbC9oOMCgh3"
      },
      "source": [
        "<hr>\n",
        "\n",
        "## Detalhamento do desafio: classificação binária\n",
        "\n",
        "Este é um desafio cujo objetivo de negócio é a segmentação dos usuários de aplicativo de um banco. Para tal, podemos utilizar duas abordagens: aprendizado de máquina supervisionado (classificação) ou não-supervisionado (clustering). Neste desafio será aplicada a classificação, pois é disponível um dataset já com \"labels\", ou em outras palavras, já com exemplos de dados juntamente com a variável alvo.\n",
        "\n",
        "Na biblioteca scikit-learn temos diversos algoritmos para classificação. O participante é livre para utilizar o framework que desejar para completar esse desafio.\n",
        "\n",
        "Neste notebook será mostrado um exeplo de uso do algoritmo \"Decision Tree\" para classificar parte dos estudantes em seis diferentes perfís."
      ]
    },
    {
      "cell_type": "markdown",
      "metadata": {
        "id": "CeF-9sTlCgh5"
      },
      "source": [
        "# Atenção!\n",
        "\n",
        "A coluna-alvo neste desafio é a coluna ``TARGET``"
      ]
    },
    {
      "cell_type": "markdown",
      "metadata": {
        "id": "cIbM7E6ECgh6"
      },
      "source": [
        "<hr>"
      ]
    },
    {
      "cell_type": "markdown",
      "metadata": {
        "id": "HKJ-8hXnCgh7"
      },
      "source": [
        "## Analisando os dados"
      ]
    },
    {
      "cell_type": "code",
      "metadata": {
        "id": "UhNKa6qPCgh9"
      },
      "source": [
        "import matplotlib.pyplot as plt\n",
        "import seaborn as sns"
      ],
      "execution_count": null,
      "outputs": []
    },
    {
      "cell_type": "markdown",
      "metadata": {
        "id": "DMqWe8f8CgiD"
      },
      "source": [
        "## Analisando a dinâmica do estoque de uma estação especifica"
      ]
    },
    {
      "cell_type": "code",
      "metadata": {
        "id": "2ziXAePOCgiF"
      },
      "source": [
        "df_training_dataset[df_training_dataset['Estação']=='Trianon-Masp'].sort_values(by='Tempo').head(20)"
      ],
      "execution_count": null,
      "outputs": []
    },
    {
      "cell_type": "markdown",
      "metadata": {
        "id": "4Rvscd8wCgiN"
      },
      "source": [
        "## Mapa de correlação"
      ]
    },
    {
      "cell_type": "code",
      "metadata": {
        "id": "aJjCXFURCgiP"
      },
      "source": [
        "plt.figure(figsize=(10,5))\n",
        "plt.title(\"Mapa de correlação entre as variáveis\")\n",
        "df = df_training_dataset.iloc[:, 5:14]\n",
        "sns.heatmap(data=df.corr(), annot=True, vmin=-1, vmax=1, center=0)"
      ],
      "execution_count": null,
      "outputs": []
    },
    {
      "cell_type": "markdown",
      "metadata": {
        "id": "bXRtvBUZCgiX"
      },
      "source": [
        "## Balanceamento das classes"
      ]
    },
    {
      "cell_type": "code",
      "metadata": {
        "id": "ygn4vZEbCgiY"
      },
      "source": [
        "sns.countplot(x='TARGET', data=df_training_dataset)"
      ],
      "execution_count": null,
      "outputs": []
    },
    {
      "cell_type": "markdown",
      "metadata": {
        "id": "HpV52EWVCgif"
      },
      "source": [
        "## Outliers"
      ]
    },
    {
      "cell_type": "code",
      "metadata": {
        "id": "iF2wudNnCgig"
      },
      "source": [
        "fig, axes = plt.subplots(nrows=3, ncols=3, figsize=(28,10))\n",
        "\n",
        "sns.boxplot(y='Açaí-Guaraná', data=df_training_dataset, ax=axes[0,0])\n",
        "sns.boxplot(y='Citrus', data=df_training_dataset, ax=axes[0,1])\n",
        "sns.boxplot(y='Maçã-Verde', data=df_training_dataset, ax=axes[0,2])\n",
        "sns.boxplot(y='Original_269', data=df_training_dataset, ax=axes[1,0])\n",
        "sns.boxplot(y='Original_473', data=df_training_dataset, ax=axes[1,1])\n",
        "sns.boxplot(y='Pêssego', data=df_training_dataset, ax=axes[1,2])\n",
        "sns.boxplot(y='Tangerina', data=df_training_dataset, ax=axes[2,0])\n",
        "sns.boxplot(y='Zero', data=df_training_dataset, ax=axes[2,1])\n",
        "sns.boxplot(y='Movimentação', data=df_training_dataset, ax=axes[2,2])"
      ],
      "execution_count": null,
      "outputs": []
    },
    {
      "cell_type": "markdown",
      "metadata": {
        "id": "8O3L8wSFCgio"
      },
      "source": [
        "# Criando de novas colunas para analisar a dispersão dos dados"
      ]
    },
    {
      "cell_type": "code",
      "metadata": {
        "id": "3c0GyrKiCgiq"
      },
      "source": [
        "df_copy = df_training_dataset[['Açaí-Guaraná', 'Citrus', 'Maçã-Verde', 'Original_269', 'Original_473', 'Pêssego', 'Tangerina', 'Zero']]"
      ],
      "execution_count": null,
      "outputs": []
    },
    {
      "cell_type": "markdown",
      "metadata": {
        "id": "N6fry1djCgi0"
      },
      "source": [
        "### Coluna Total Estoque (Em unidades)"
      ]
    },
    {
      "cell_type": "code",
      "metadata": {
        "id": "6XSkla45Cgi3"
      },
      "source": [
        "def sum_columns(row):\n",
        "    return sum(row)\n",
        "\n",
        "#Nova coluna com a soma da quantidade de cada tipo de energetico no estoque\n",
        "df_training_dataset['Total_Estoque'] = df_copy.apply(sum_columns, axis=1)"
      ],
      "execution_count": null,
      "outputs": []
    },
    {
      "cell_type": "markdown",
      "metadata": {
        "id": "e7xKgeR9Cgi9"
      },
      "source": [
        "### Colunas Estoque máximo e Estoque mínimo (Em unidades)"
      ]
    },
    {
      "cell_type": "code",
      "metadata": {
        "id": "PEGtU5JGCgi-"
      },
      "source": [
        "def min_value(row):\n",
        "    return min(row)\n",
        "\n",
        "#Nova coluna com a menor quantidade de energetico no estoque\n",
        "df_training_dataset['Min_Estoque'] = df_copy.apply(min_value, axis=1)\n",
        "\n",
        "#Nova coluna com a maior quantidade de energetico no estoque\n",
        "def max_value(row):\n",
        "    return max(row)\n",
        "\n",
        "df_training_dataset['Max_Estoque'] = df_copy.apply(max_value, axis=1)"
      ],
      "execution_count": null,
      "outputs": []
    },
    {
      "cell_type": "markdown",
      "metadata": {
        "id": "0tEcD5lTCgjE"
      },
      "source": [
        "### Coluna Percentual Total do Estoque"
      ]
    },
    {
      "cell_type": "code",
      "metadata": {
        "id": "OR2RfPa6CgjF"
      },
      "source": [
        "total_itens = max(df_copy['Açaí-Guaraná']) + max(df_copy['Citrus']) + max(df_copy['Maçã-Verde']) + max(df_copy['Original_269']) + max(df_copy['Original_473']) + max(df_copy['Pêssego']) + max(df_copy['Tangerina']) + max(df_copy['Zero'])\n",
        "\n",
        "def percentual_estoque(row):\n",
        "    return int((sum(row)/total_itens)*100)    \n",
        "\n",
        "#Nova coluna com a menor quantidade de energetico no estoque\n",
        "df_training_dataset['Percentual_Total_Estoque'] = df_copy.apply(percentual_estoque, axis=1)"
      ],
      "execution_count": null,
      "outputs": []
    },
    {
      "cell_type": "markdown",
      "metadata": {
        "id": "dJMkg_OXCgjL"
      },
      "source": [
        "### Coluna Percentual de cada item no estoque"
      ]
    },
    {
      "cell_type": "code",
      "metadata": {
        "id": "4vbCMc6ECgjM"
      },
      "source": [
        "df_training_dataset['P_Açaí-Guaraná'] = df_training_dataset['Açaí-Guaraná'].apply(lambda x: int((x/max(df_training_dataset['Açaí-Guaraná']))*100))\n",
        "df_training_dataset['P_Citrus'] = df_training_dataset['Citrus'].apply(lambda x: int((x/max(df_training_dataset['Citrus']))*100))\n",
        "df_training_dataset['P_Maçã-Verde'] = df_training_dataset['Maçã-Verde'].apply(lambda x: int((x/max(df_training_dataset['Maçã-Verde']))*100))\n",
        "df_training_dataset['P_Original_269'] = df_training_dataset['Original_269'].apply(lambda x: int((x/max(df_training_dataset['Original_269']))*100))\n",
        "df_training_dataset['P_Original_473'] = df_training_dataset['Original_473'].apply(lambda x: int((x/max(df_training_dataset['Original_473']))*100))\n",
        "df_training_dataset['P_Pêssego'] = df_training_dataset['Pêssego'].apply(lambda x: int((x/max(df_training_dataset['Pêssego']))*100))\n",
        "df_training_dataset['P_Tangerina'] = df_training_dataset['Tangerina'].apply(lambda x: int((x/max(df_training_dataset['Tangerina']))*100))\n",
        "df_training_dataset['P_Zero'] = df_training_dataset['Zero'].apply(lambda x: int((x/max(df_training_dataset['Zero']))*100))"
      ],
      "execution_count": null,
      "outputs": []
    },
    {
      "cell_type": "markdown",
      "metadata": {
        "id": "_DgmVQcXCgjT"
      },
      "source": [
        "### Percentual mínimo e máximo no estoque"
      ]
    },
    {
      "cell_type": "code",
      "metadata": {
        "id": "p37KHhS_CgjU"
      },
      "source": [
        "df_copy = df_training_dataset[['P_Açaí-Guaraná', 'P_Citrus', 'P_Maçã-Verde', 'P_Original_269', 'P_Original_473', 'P_Pêssego', 'P_Tangerina', 'P_Zero']]"
      ],
      "execution_count": null,
      "outputs": []
    },
    {
      "cell_type": "code",
      "metadata": {
        "id": "yMIF7VRjCgjd"
      },
      "source": [
        "import numpy as np\n",
        "\n",
        "def min_percentual_value(row):\n",
        "    return min(row)\n",
        "\n",
        "def max_percentual_value(row):\n",
        "    return max(row)\n",
        "\n",
        "def mean_percentual_value(row):\n",
        "    return int(np.median(row))\n",
        "\n",
        "#Nova coluna com a menor quantidade de energetico no estoque\n",
        "df_training_dataset['Min_Percentual_Estoque'] = df_copy.apply(min_percentual_value, axis=1)\n",
        "df_training_dataset['Max_Percentual_Estoque'] = df_copy.apply(max_percentual_value, axis=1)\n",
        "df_training_dataset['Mean_Percentual_Estoque'] = df_copy.apply(mean_percentual_value, axis=1)"
      ],
      "execution_count": null,
      "outputs": []
    },
    {
      "cell_type": "code",
      "metadata": {
        "id": "i4Sn46gdCgjl"
      },
      "source": [
        "fig, axes = plt.subplots(nrows=1, ncols=3, figsize=(28,10))\n",
        "\n",
        "sns.scatterplot(x='Min_Percentual_Estoque', y='Percentual_Total_Estoque', hue='TARGET', data=df_training_dataset, ax=axes[0])\n",
        "sns.scatterplot(x='Min_Percentual_Estoque', y='Max_Percentual_Estoque', hue='TARGET', data=df_training_dataset, ax=axes[1])\n",
        "sns.scatterplot(x='Min_Percentual_Estoque', y='Mean_Percentual_Estoque', hue='TARGET', data=df_training_dataset, ax=axes[2])"
      ],
      "execution_count": null,
      "outputs": []
    },
    {
      "cell_type": "markdown",
      "metadata": {
        "id": "OFsLOwz1Cgjt"
      },
      "source": [
        "## Pre-processando o dataset antes do treinamento"
      ]
    },
    {
      "cell_type": "markdown",
      "metadata": {
        "id": "OFazS3AxCgju"
      },
      "source": [
        "### Processando valores NaN com o SimpleImputer do sklearn\n",
        "\n",
        "Para os valores NaN, usaremos a substituição pela constante 0 como **exemplo**.\n",
        "\n",
        "Você pode escolher a estratégia que achar melhor para tratar os valores nulos :)\n",
        "\n",
        "Docs: https://scikit-learn.org/stable/modules/generated/sklearn.impute.SimpleImputer.html?highlight=simpleimputer#sklearn.impute.SimpleImputer"
      ]
    },
    {
      "cell_type": "code",
      "metadata": {
        "id": "LJYAgIbaCgjw"
      },
      "source": [
        "from sklearn.impute import SimpleImputer\n",
        "import numpy as np\n",
        "\n",
        "\n",
        "impute_zeros = SimpleImputer(\n",
        "    missing_values=np.nan,\n",
        "    strategy='constant',\n",
        "    fill_value=0,\n",
        "    verbose=0,\n",
        "    copy=True\n",
        ")"
      ],
      "execution_count": null,
      "outputs": []
    },
    {
      "cell_type": "code",
      "metadata": {
        "id": "ySxozalVCgj2"
      },
      "source": [
        "# Exibindo os dados ausentes do conjunto de dados antes da primeira transformação (df)\n",
        "print(\"Valores nulos no df_training_dataset antes da transformação SimpleImputer: \\n\\n{}\\n\".format(df_training_dataset.isnull().sum(axis = 0)))\n",
        "\n",
        "# Aplicando a transformação ``SimpleImputer`` no conjunto de dados base\n",
        "impute_zeros.fit(X=df_training_dataset)\n",
        "\n",
        "# Reconstruindo um Pandas DataFrame com os resultados\n",
        "df_training_dataset_imputed = pd.DataFrame.from_records(\n",
        "    data=impute_zeros.transform(\n",
        "        X=df_training_dataset\n",
        "    ),\n",
        "    columns=df_training_dataset.columns\n",
        ")\n",
        "\n",
        "# Exibindo os dados ausentes do conjunto de dados após a primeira transformação (df)\n",
        "print(\"Valores nulos no df_training_dataset após a transformação SimpleImputer: \\n\\n{}\\n\".format(df_training_dataset_imputed.isnull().sum(axis = 0)))"
      ],
      "execution_count": null,
      "outputs": []
    },
    {
      "cell_type": "markdown",
      "metadata": {
        "id": "ksVn7lVACgkB"
      },
      "source": [
        "### Eliminando colunas indesejadas\n",
        "\n",
        "Vamos **demonstrar** abaixo como usar o método **DataFrame.drop()**.\n",
        "\n",
        "Docs: https://pandas.pydata.org/pandas-docs/stable/reference/api/pandas.DataFrame.drop.html"
      ]
    },
    {
      "cell_type": "code",
      "metadata": {
        "id": "o4F16TprCgkC"
      },
      "source": [
        "df_training_dataset_imputed.tail()"
      ],
      "execution_count": null,
      "outputs": []
    },
    {
      "cell_type": "code",
      "metadata": {
        "id": "bRWu1pSDCgkJ"
      },
      "source": [
        "df_training_dataset_rmcolumns = df_training_dataset_imputed.drop(columns=['Tempo', 'Estação', 'LAT', 'LONG', 'Movimentação'], inplace=False)"
      ],
      "execution_count": null,
      "outputs": []
    },
    {
      "cell_type": "code",
      "metadata": {
        "id": "zabPoDlNCgkO"
      },
      "source": [
        "df_training_dataset_rmcolumns.tail()"
      ],
      "execution_count": null,
      "outputs": []
    },
    {
      "cell_type": "markdown",
      "metadata": {
        "id": "7AZMk0YKCgkU"
      },
      "source": [
        "# Atenção!\n",
        "\n",
        "As colunas removidas acima são apenas para fim de exemplo, você pode usar as colunas que quiser e inclusive criar novas colunas com dados que achar importantes!\n"
      ]
    },
    {
      "cell_type": "markdown",
      "metadata": {
        "id": "cc9ghG9zCgkV"
      },
      "source": [
        "### Tratamento de de variáveis categóricas\n",
        "\n",
        "Como mencionado antes, os computadores não são bons com variáveis \"categóricas\" (ou strings).\n",
        "\n",
        "Dado uma coluna com variável categórica, o que podemos realizar é a codificação dessa coluna em múltiplas colunas contendo variáveis binárias. Esse processo é chamado de \"one-hot-encoding\" ou \"dummy encoding\". Se você não é familiarizado com esses termos, você pode pesquisar mais sobre isso na internet :)"
      ]
    },
    {
      "cell_type": "code",
      "metadata": {
        "id": "vwXjpCoWCgkW",
        "outputId": "ac7184fc-a93f-444e-8a36-6954272cf4c5"
      },
      "source": [
        "# Tratando variáveis categóricas com o método Pandas ``get_dummies()''\n",
        "# df_training = pd.get_dummies(df_training_dataset_rmcolumns, columns=['Variável a ser aplicado método getDumies()'])\n",
        "#df_training = df_training_dataset_rmcolumns\n",
        "df_training = df_training_dataset[['Min_Estoque', 'Max_Estoque', 'Total_Estoque', 'TARGET']]\n",
        "df_training.head()"
      ],
      "execution_count": null,
      "outputs": [
        {
          "output_type": "execute_result",
          "data": {
            "text/html": [
              "<div>\n",
              "<style scoped>\n",
              "    .dataframe tbody tr th:only-of-type {\n",
              "        vertical-align: middle;\n",
              "    }\n",
              "\n",
              "    .dataframe tbody tr th {\n",
              "        vertical-align: top;\n",
              "    }\n",
              "\n",
              "    .dataframe thead th {\n",
              "        text-align: right;\n",
              "    }\n",
              "</style>\n",
              "<table border=\"1\" class=\"dataframe\">\n",
              "  <thead>\n",
              "    <tr style=\"text-align: right;\">\n",
              "      <th></th>\n",
              "      <th>Min_Estoque</th>\n",
              "      <th>Max_Estoque</th>\n",
              "      <th>Total_Estoque</th>\n",
              "      <th>TARGET</th>\n",
              "    </tr>\n",
              "  </thead>\n",
              "  <tbody>\n",
              "    <tr>\n",
              "      <th>0</th>\n",
              "      <td>5</td>\n",
              "      <td>86</td>\n",
              "      <td>196</td>\n",
              "      <td>REABASTECER</td>\n",
              "    </tr>\n",
              "    <tr>\n",
              "      <th>1</th>\n",
              "      <td>12</td>\n",
              "      <td>73</td>\n",
              "      <td>321</td>\n",
              "      <td>NORMAL</td>\n",
              "    </tr>\n",
              "    <tr>\n",
              "      <th>2</th>\n",
              "      <td>4</td>\n",
              "      <td>51</td>\n",
              "      <td>213</td>\n",
              "      <td>REABASTECER</td>\n",
              "    </tr>\n",
              "    <tr>\n",
              "      <th>3</th>\n",
              "      <td>9</td>\n",
              "      <td>58</td>\n",
              "      <td>235</td>\n",
              "      <td>NORMAL</td>\n",
              "    </tr>\n",
              "    <tr>\n",
              "      <th>4</th>\n",
              "      <td>5</td>\n",
              "      <td>50</td>\n",
              "      <td>253</td>\n",
              "      <td>REABASTECER</td>\n",
              "    </tr>\n",
              "  </tbody>\n",
              "</table>\n",
              "</div>"
            ],
            "text/plain": [
              "   Min_Estoque  Max_Estoque  Total_Estoque       TARGET\n",
              "0            5           86            196  REABASTECER\n",
              "1           12           73            321       NORMAL\n",
              "2            4           51            213  REABASTECER\n",
              "3            9           58            235       NORMAL\n",
              "4            5           50            253  REABASTECER"
            ]
          },
          "metadata": {
            "tags": []
          },
          "execution_count": 101
        }
      ]
    },
    {
      "cell_type": "markdown",
      "metadata": {
        "id": "OZlevVOfCgkb"
      },
      "source": [
        "# Atenção!\n",
        "\n",
        "A coluna **TARGET** deve ser mantida como uma string. Você não precisa processar/codificar a variável-alvo."
      ]
    },
    {
      "cell_type": "markdown",
      "metadata": {
        "id": "2b-OqbQwCgkd"
      },
      "source": [
        "<hr>"
      ]
    },
    {
      "cell_type": "markdown",
      "metadata": {
        "id": "GKmzbzKmCgke"
      },
      "source": [
        "## Treinando um classificador com base em uma árvore de decisão"
      ]
    },
    {
      "cell_type": "markdown",
      "metadata": {
        "id": "ug1NXEIFCgkf"
      },
      "source": [
        "### Selecionando FEATURES e definindo a variável TARGET"
      ]
    },
    {
      "cell_type": "code",
      "metadata": {
        "id": "rclzhWLiCgkg"
      },
      "source": [
        "df_training.columns"
      ],
      "execution_count": null,
      "outputs": []
    },
    {
      "cell_type": "code",
      "metadata": {
        "id": "pqwjuTOGCgko"
      },
      "source": [
        "features = df_training[\n",
        "    [\n",
        "        'Min_Estoque', 'Max_Estoque', 'Total_Estoque'  \n",
        "    ]\n",
        "]\n",
        "target = df_training['TARGET']  ## NÃO TROQUE O NOME DA VARIÁVEL TARGET."
      ],
      "execution_count": null,
      "outputs": []
    },
    {
      "cell_type": "code",
      "metadata": {
        "id": "5Vuu8ZYeCgkw"
      },
      "source": [
        "features.head()"
      ],
      "execution_count": null,
      "outputs": []
    },
    {
      "cell_type": "markdown",
      "metadata": {
        "id": "dZBUs0l-Cgk2"
      },
      "source": [
        "## Padronizando os dados com Standard Scaler"
      ]
    },
    {
      "cell_type": "code",
      "metadata": {
        "id": "-XdYHrPdCgk3"
      },
      "source": [
        "from sklearn.preprocessing import StandardScaler\n",
        "\n",
        "scaler = StandardScaler()\n",
        "\n",
        "scaler_data = scaler.fit_transform(features)\n",
        "\n",
        "# convert the array back to a dataframe\n",
        "features = pd.DataFrame.from_records(data=scaler_data)"
      ],
      "execution_count": null,
      "outputs": []
    },
    {
      "cell_type": "code",
      "metadata": {
        "id": "r2cRwpHJCgk9"
      },
      "source": [
        "features.head()"
      ],
      "execution_count": null,
      "outputs": []
    },
    {
      "cell_type": "markdown",
      "metadata": {
        "id": "pccQdnPECglC"
      },
      "source": [
        "### Dividindo nosso conjunto de dados em conjuntos de treinamento e teste"
      ]
    },
    {
      "cell_type": "code",
      "metadata": {
        "id": "FX9JHM3iCglD"
      },
      "source": [
        "from sklearn.model_selection import train_test_split\n",
        "\n",
        "\n",
        "X_train, X_test, y_train, y_test = train_test_split(features, target, test_size=0.3, random_state=133)"
      ],
      "execution_count": null,
      "outputs": []
    },
    {
      "cell_type": "markdown",
      "metadata": {
        "id": "fN44nEV6CglL"
      },
      "source": [
        "### Treinando o modelo baseado em árvore de decisão"
      ]
    },
    {
      "cell_type": "code",
      "metadata": {
        "id": "aHdaNsQUCglN",
        "outputId": "14c5325c-e4f1-49ce-edd9-75d3d3bfdbb6"
      },
      "source": [
        "# Método para criar um árvore de decisão\n",
        "from sklearn.tree import DecisionTreeClassifier\n",
        "\n",
        "dtc = DecisionTreeClassifier(max_depth=3)\n",
        "\n",
        "dtc.fit(X_train, y_train)\n",
        "\n",
        "y_pred = dtc.predict(X_test)\n",
        "\n",
        "# Acurácia alcançada pela árvore de decisão\n",
        "print(\"Acurácia: {}%\".format(100*round(accuracy_score(y_test, y_pred), 2)))"
      ],
      "execution_count": null,
      "outputs": [
        {
          "output_type": "stream",
          "text": [
            "Acurácia: 77.0%\n"
          ],
          "name": "stdout"
        }
      ]
    },
    {
      "cell_type": "code",
      "metadata": {
        "id": "6p8Z0tdJCglU",
        "outputId": "003610fc-8225-430b-9375-409125d4c7d0"
      },
      "source": [
        "print (classification_report(y_test, y_pred))"
      ],
      "execution_count": null,
      "outputs": [
        {
          "output_type": "stream",
          "text": [
            "              precision    recall  f1-score   support\n",
            "\n",
            "      NORMAL       0.90      0.74      0.81      2718\n",
            " REABASTECER       0.59      0.82      0.69      1240\n",
            "\n",
            "   micro avg       0.77      0.77      0.77      3958\n",
            "   macro avg       0.75      0.78      0.75      3958\n",
            "weighted avg       0.80      0.77      0.77      3958\n",
            "\n"
          ],
          "name": "stdout"
        }
      ]
    },
    {
      "cell_type": "code",
      "metadata": {
        "id": "t8ZnG3KJCglc",
        "outputId": "d075df98-3bed-4c20-c2b6-5ac42488294d"
      },
      "source": [
        "plot_confusion_matrix(confusion_matrix(y_test, y_pred), ['NORMAL', 'REABASTECER'])"
      ],
      "execution_count": null,
      "outputs": [
        {
          "output_type": "display_data",
          "data": {
            "image/png": "[encoded data removed]",
            "text/plain": [
              "<Figure size 576x432 with 2 Axes>"
            ]
          },
          "metadata": {
            "tags": [],
            "needs_background": "light"
          }
        }
      ]
    },
    {
      "cell_type": "markdown",
      "metadata": {
        "id": "S_CosjgvCglj"
      },
      "source": [
        "## Treinando o modelo usando SVM"
      ]
    },
    {
      "cell_type": "code",
      "metadata": {
        "id": "u0OkI_frCgll"
      },
      "source": [
        "# Método para criar o Support Vector Machine\n",
        "from sklearn import svm\n",
        "\n",
        "svc_classifier = svm.SVC(kernel='rbf', gamma='auto')\n",
        "\n",
        "svc_classifier.fit(X_train, y_train)\n",
        "\n",
        "y_pred = svc_classifier.predict(X_test)\n",
        "\n",
        "# Acurácia alcançada pela árvore de decisão\n",
        "print(\"Acurácia: {}%\".format(100*round(accuracy_score(y_test, y_pred), 2)))"
      ],
      "execution_count": null,
      "outputs": []
    },
    {
      "cell_type": "code",
      "metadata": {
        "id": "jhxfccE_Cglu"
      },
      "source": [
        "print (classification_report(y_test, y_pred))"
      ],
      "execution_count": null,
      "outputs": []
    },
    {
      "cell_type": "markdown",
      "metadata": {
        "id": "yJZfVe2kCgl1"
      },
      "source": [
        "## Treinando o modelo com o algoritmo KNN"
      ]
    },
    {
      "cell_type": "code",
      "metadata": {
        "id": "3msoOUcgCgl2"
      },
      "source": [
        "from sklearn.neighbors import KNeighborsClassifier\n",
        "\n",
        "knn = KNeighborsClassifier(n_neighbors=80)\n",
        "\n",
        "knn.fit(X_train, y_train)\n",
        "\n",
        "# Realização de teste cego no modelo criado\n",
        "y_pred = knn.predict(X_test)\n",
        "\n",
        "# Acurácia alcançada pela árvore de decisão\n",
        "print(\"Acurácia: {}%\".format(100*round(accuracy_score(y_test, y_pred), 2)))"
      ],
      "execution_count": null,
      "outputs": []
    },
    {
      "cell_type": "code",
      "metadata": {
        "id": "K5zpfcYHCgmI"
      },
      "source": [
        "print (classification_report(y_test, y_pred))"
      ],
      "execution_count": null,
      "outputs": []
    },
    {
      "cell_type": "markdown",
      "metadata": {
        "id": "Ctw-n1wmCgmO"
      },
      "source": [
        "## Treinando o modelo com XBoost Classifier"
      ]
    },
    {
      "cell_type": "code",
      "metadata": {
        "id": "aMIaXZWZCgmP"
      },
      "source": [
        "from xgboost import XGBClassifier\n",
        "\n",
        "xg_boost = XGBClassifier(max_depth=2)\n",
        "xg_boost.fit(X_train, y_train)\n",
        "\n",
        "# Realização de teste cego no modelo criado\n",
        "y_pred = xg_boost.predict(X_test)\n",
        "\n",
        "# Acurácia alcançada pela árvore de decisão\n",
        "print(\"Acurácia: {}%\".format(100*round(accuracy_score(y_test, y_pred), 2)))"
      ],
      "execution_count": null,
      "outputs": []
    },
    {
      "cell_type": "code",
      "metadata": {
        "id": "eXIbdR-PCgmY"
      },
      "source": [
        "print (classification_report(y_test, y_pred))"
      ],
      "execution_count": null,
      "outputs": []
    },
    {
      "cell_type": "code",
      "metadata": {
        "id": "20BxuBUhCgmf"
      },
      "source": [
        "plot_confusion_matrix(confusion_matrix(y_test, y_pred), ['NORMAL', 'REABASTECER'])"
      ],
      "execution_count": null,
      "outputs": []
    },
    {
      "cell_type": "markdown",
      "metadata": {
        "id": "jepxf0vrCgmk"
      },
      "source": [
        "### Analisando a qualidade do modelo através da matriz de confusão"
      ]
    },
    {
      "cell_type": "code",
      "metadata": {
        "id": "zidLxzh6Cgml"
      },
      "source": [
        "import matplotlib.pyplot as plt\n",
        "import numpy as np\n",
        "import itertools\n",
        "\n",
        "\n",
        "def plot_confusion_matrix(cm, target_names, title='Confusion matrix', cmap=None, normalize=True):\n",
        "    accuracy = np.trace(cm) / float(np.sum(cm))\n",
        "    misclass = 1 - accuracy\n",
        "    if cmap is None:\n",
        "        cmap = plt.get_cmap('Blues')\n",
        "    plt.figure(figsize=(8, 6))\n",
        "    plt.imshow(cm, interpolation='nearest', cmap=cmap)\n",
        "    plt.title(title)\n",
        "    plt.colorbar()\n",
        "    if target_names is not None:\n",
        "        tick_marks = np.arange(len(target_names))\n",
        "        plt.xticks(tick_marks, target_names, rotation=45)\n",
        "        plt.yticks(tick_marks, target_names)\n",
        "    if normalize:\n",
        "        cm = cm.astype('float') / cm.sum(axis=1)[:, np.newaxis]\n",
        "    thresh = cm.max() / 1.5 if normalize else cm.max() / 2\n",
        "    for i, j in itertools.product(range(cm.shape[0]), range(cm.shape[1])):\n",
        "        if normalize:\n",
        "            plt.text(j, i, \"{:0.2f}\".format(cm[i, j]),\n",
        "                     horizontalalignment=\"center\",\n",
        "                     color=\"white\" if cm[i, j] > thresh else \"black\")\n",
        "        else:\n",
        "            plt.text(j, i, \"{:,}\".format(cm[i, j]),\n",
        "                     horizontalalignment=\"center\",\n",
        "                     color=\"white\" if cm[i, j] > thresh else \"black\")\n",
        "    plt.tight_layout()\n",
        "    plt.ylabel('True label')\n",
        "    plt.xlabel('Predicted label\\naccuracy={:0.4f}; misclass={:0.4f}'.format(accuracy, misclass))\n",
        "    plt.show()"
      ],
      "execution_count": null,
      "outputs": []
    },
    {
      "cell_type": "markdown",
      "metadata": {
        "id": "8NG4nyurCgmu"
      },
      "source": [
        "<hr>"
      ]
    },
    {
      "cell_type": "markdown",
      "metadata": {
        "id": "u2qpYoPbCgm1"
      },
      "source": [
        "## Scoring dos dados necessários para entregar a solução"
      ]
    },
    {
      "cell_type": "markdown",
      "metadata": {
        "id": "mdjelLXYCgnC"
      },
      "source": [
        "Como entrega da sua solução, esperamos os resultados classificados no seguinte dataset chamado \"to_be_scored.csv\":"
      ]
    },
    {
      "cell_type": "markdown",
      "metadata": {
        "id": "vu5N0KKlCgnE"
      },
      "source": [
        "### Download da \"folha de respostas\""
      ]
    },
    {
      "cell_type": "code",
      "metadata": {
        "scrolled": false,
        "id": "ojX6uMOLCgnF",
        "outputId": "7f9200e6-4317-483b-bd38-b4a7e461093d"
      },
      "source": [
        "!wget --no-check-certificate --content-disposition https://gitlab.com/JoaoPedroPP/datasets/-/raw/master/ntn/to_be_scored.csv\n",
        "df_to_be_scored = pd.read_csv(r'to_be_scored.csv')\n",
        "df_to_be_scored.tail()"
      ],
      "execution_count": null,
      "outputs": [
        {
          "output_type": "stream",
          "text": [
            "--2020-09-10 00:15:45--  https://gitlab.com/JoaoPedroPP/datasets/-/raw/master/ntn/to_be_scored.csv\n",
            "Resolving gitlab.com (gitlab.com)... 172.65.251.78, 2606:4700:90:0:f22e:fbec:5bed:a9b9\n",
            "Connecting to gitlab.com (gitlab.com)|172.65.251.78|:443... connected.\n",
            "HTTP request sent, awaiting response... 200 OK\n",
            "Length: unspecified [text/plain]\n",
            "Saving to: ‘to_be_scored.csv.2’\n",
            "\n",
            "    [ <=>                                   ] 70,291      --.-K/s   in 0.002s  \n",
            "\n",
            "2020-09-10 00:15:45 (38.8 MB/s) - ‘to_be_scored.csv.2’ saved [70291]\n",
            "\n"
          ],
          "name": "stdout"
        },
        {
          "output_type": "execute_result",
          "data": {
            "text/html": [
              "<div>\n",
              "<style scoped>\n",
              "    .dataframe tbody tr th:only-of-type {\n",
              "        vertical-align: middle;\n",
              "    }\n",
              "\n",
              "    .dataframe tbody tr th {\n",
              "        vertical-align: top;\n",
              "    }\n",
              "\n",
              "    .dataframe thead th {\n",
              "        text-align: right;\n",
              "    }\n",
              "</style>\n",
              "<table border=\"1\" class=\"dataframe\">\n",
              "  <thead>\n",
              "    <tr style=\"text-align: right;\">\n",
              "      <th></th>\n",
              "      <th>Tempo</th>\n",
              "      <th>Estação</th>\n",
              "      <th>LAT</th>\n",
              "      <th>LONG</th>\n",
              "      <th>Movimentação</th>\n",
              "      <th>Original_473</th>\n",
              "      <th>Original_269</th>\n",
              "      <th>Zero</th>\n",
              "      <th>Maçã-Verde</th>\n",
              "      <th>Tangerina</th>\n",
              "      <th>Citrus</th>\n",
              "      <th>Açaí-Guaraná</th>\n",
              "      <th>Pêssego</th>\n",
              "    </tr>\n",
              "  </thead>\n",
              "  <tbody>\n",
              "    <tr>\n",
              "      <th>979</th>\n",
              "      <td>2019-8-19</td>\n",
              "      <td>Hospital São Paulo</td>\n",
              "      <td>-23.5984</td>\n",
              "      <td>-46.6455</td>\n",
              "      <td>26787</td>\n",
              "      <td>34</td>\n",
              "      <td>65</td>\n",
              "      <td>28</td>\n",
              "      <td>17</td>\n",
              "      <td>33</td>\n",
              "      <td>27</td>\n",
              "      <td>6</td>\n",
              "      <td>2</td>\n",
              "    </tr>\n",
              "    <tr>\n",
              "      <th>980</th>\n",
              "      <td>2019-8-20</td>\n",
              "      <td>Hospital São Paulo</td>\n",
              "      <td>-23.5984</td>\n",
              "      <td>-46.6455</td>\n",
              "      <td>26629</td>\n",
              "      <td>21</td>\n",
              "      <td>60</td>\n",
              "      <td>18</td>\n",
              "      <td>15</td>\n",
              "      <td>27</td>\n",
              "      <td>22</td>\n",
              "      <td>43</td>\n",
              "      <td>43</td>\n",
              "    </tr>\n",
              "    <tr>\n",
              "      <th>981</th>\n",
              "      <td>2019-8-21</td>\n",
              "      <td>Hospital São Paulo</td>\n",
              "      <td>-23.5984</td>\n",
              "      <td>-46.6455</td>\n",
              "      <td>27517</td>\n",
              "      <td>9</td>\n",
              "      <td>56</td>\n",
              "      <td>13</td>\n",
              "      <td>14</td>\n",
              "      <td>21</td>\n",
              "      <td>17</td>\n",
              "      <td>37</td>\n",
              "      <td>37</td>\n",
              "    </tr>\n",
              "    <tr>\n",
              "      <th>982</th>\n",
              "      <td>2019-8-22</td>\n",
              "      <td>Hospital São Paulo</td>\n",
              "      <td>-23.5984</td>\n",
              "      <td>-46.6455</td>\n",
              "      <td>26860</td>\n",
              "      <td>86</td>\n",
              "      <td>49</td>\n",
              "      <td>7</td>\n",
              "      <td>14</td>\n",
              "      <td>17</td>\n",
              "      <td>12</td>\n",
              "      <td>33</td>\n",
              "      <td>33</td>\n",
              "    </tr>\n",
              "    <tr>\n",
              "      <th>983</th>\n",
              "      <td>2019-8-23</td>\n",
              "      <td>Hospital São Paulo</td>\n",
              "      <td>-23.5984</td>\n",
              "      <td>-46.6455</td>\n",
              "      <td>24571</td>\n",
              "      <td>74</td>\n",
              "      <td>41</td>\n",
              "      <td>65</td>\n",
              "      <td>8</td>\n",
              "      <td>14</td>\n",
              "      <td>7</td>\n",
              "      <td>27</td>\n",
              "      <td>27</td>\n",
              "    </tr>\n",
              "  </tbody>\n",
              "</table>\n",
              "</div>"
            ],
            "text/plain": [
              "         Tempo             Estação      LAT     LONG  Movimentação  \\\n",
              "979  2019-8-19  Hospital São Paulo -23.5984 -46.6455         26787   \n",
              "980  2019-8-20  Hospital São Paulo -23.5984 -46.6455         26629   \n",
              "981  2019-8-21  Hospital São Paulo -23.5984 -46.6455         27517   \n",
              "982  2019-8-22  Hospital São Paulo -23.5984 -46.6455         26860   \n",
              "983  2019-8-23  Hospital São Paulo -23.5984 -46.6455         24571   \n",
              "\n",
              "     Original_473  Original_269  Zero  Maçã-Verde  Tangerina  Citrus  \\\n",
              "979            34            65    28          17         33      27   \n",
              "980            21            60    18          15         27      22   \n",
              "981             9            56    13          14         21      17   \n",
              "982            86            49     7          14         17      12   \n",
              "983            74            41    65           8         14       7   \n",
              "\n",
              "     Açaí-Guaraná  Pêssego  \n",
              "979             6        2  \n",
              "980            43       43  \n",
              "981            37       37  \n",
              "982            33       33  \n",
              "983            27       27  "
            ]
          },
          "metadata": {
            "tags": []
          },
          "execution_count": 133
        }
      ]
    },
    {
      "cell_type": "markdown",
      "metadata": {
        "id": "fcfVprjxCgnO"
      },
      "source": [
        "# Atenção!\n",
        "\n",
        "O dataframe ``to_be_scored`` é a sua \"folha de respostas\". Note que a coluna \"TARGET\" não existe nessa amostra, que não pode ser então utilizada para treino de modelos de aprendizado supervisionado."
      ]
    },
    {
      "cell_type": "code",
      "metadata": {
        "scrolled": true,
        "id": "oEYi6gmxCgnQ"
      },
      "source": [
        "df_to_be_scored.info()"
      ],
      "execution_count": null,
      "outputs": []
    },
    {
      "cell_type": "markdown",
      "metadata": {
        "id": "zyOeK5OuCgnY"
      },
      "source": [
        "<hr>\n",
        "\n",
        "# Atenção!\n",
        "\n",
        "# Para poder aplicar seu modelo e classificar a folha de respostas, você precisa primeiro aplicar as mesmas transformações com colunas que você aplicou no dataset de treino.\n",
        "\n",
        "# Não remova ou adicione linhas na folha de respostas. \n",
        "\n",
        "# Não altere a ordem das linhas na folha de respostas.\n",
        "\n",
        "# Ao final, as 1000 entradas devem estar classificadas, com os valores previstos em uma coluna chamada \"target\"\n",
        "\n",
        "<hr>"
      ]
    },
    {
      "cell_type": "markdown",
      "metadata": {
        "id": "Dt6kIzT0Cgnc"
      },
      "source": [
        "Na célula abaixo, repetimos rapidamente os mesmos passos de pré-processamento usados no exemplo dado com árvore de decisão"
      ]
    },
    {
      "cell_type": "code",
      "metadata": {
        "id": "h7BUhKCRCgng"
      },
      "source": [
        "df_copy = df_to_be_scored[['Açaí-Guaraná', 'Citrus', 'Maçã-Verde', 'Original_269', 'Original_473', 'Pêssego', 'Tangerina', 'Zero']]\n",
        "\n",
        "#1 - Adiciona uma noa coluna 'Total Estoque'\n",
        "def sum_columns(row):\n",
        "    return sum(row)\n",
        "\n",
        "#Nova coluna com a soma da quantidade de cada tipo de energetico no estoque\n",
        "df_to_be_scored['Total_Estoque'] = df_copy.apply(sum_columns, axis=1)\n",
        "\n",
        "\n",
        "#2 - Adiciona 2 novas colunas 'Min Estoque' e 'Max Estoque'\n",
        "def min_value(row):\n",
        "    return min(row)\n",
        "\n",
        "def max_value(row):\n",
        "    return max(row)\n",
        "\n",
        "df_to_be_scored['Min_Estoque'] = df_copy.apply(min_value, axis=1)\n",
        "df_to_be_scored['Max_Estoque'] = df_copy.apply(max_value, axis=1)\n",
        "\n",
        "\n",
        "# 3 - Remoção de colunas\n",
        "df_to_be_scored_2 = df_to_be_scored.drop(columns=['Tempo', 'Estação', 'LAT', 'LONG', 'Movimentação', 'Açaí-Guaraná', 'Citrus', 'Maçã-Verde', 'Original_269', 'Original_473', 'Pêssego', 'Tangerina', 'Zero'], inplace=False)\n",
        "\n",
        "# 4 - from sklearn.preprocessing import StandardScaler\n",
        "\n",
        "features = df_to_be_scored_2[['Min_Estoque', 'Max_Estoque', 'Total_Estoque']]\n",
        "scaler = StandardScaler()\n",
        "scaler_data = scaler.fit_transform(features)\n",
        "\n",
        "# convert the array back to a dataframe\n",
        "df_to_be_scored_3 = pd.DataFrame.from_records(data=scaler_data)\n",
        "\n",
        "df_to_be_scored_3.tail()"
      ],
      "execution_count": null,
      "outputs": []
    },
    {
      "cell_type": "markdown",
      "metadata": {
        "id": "vgSTu8e7Cgnm"
      },
      "source": [
        "<hr>\n",
        "\n",
        "Pode ser verificado abaixo que as colunas da folha de resposta agora são idênticas às que foram usadas para treinar o modelo:"
      ]
    },
    {
      "cell_type": "code",
      "metadata": {
        "id": "xJuv50l6Cgnn"
      },
      "source": [
        "df_training[\n",
        "    [\n",
        "        'Min_Estoque', 'Max_Estoque', 'Total_Estoque' \n",
        "    ]\n",
        "].columns"
      ],
      "execution_count": null,
      "outputs": []
    },
    {
      "cell_type": "code",
      "metadata": {
        "id": "s3v02gj0Cgnt"
      },
      "source": [
        "df_to_be_scored_3.columns"
      ],
      "execution_count": null,
      "outputs": []
    },
    {
      "cell_type": "markdown",
      "metadata": {
        "id": "CtJwQ9CBCgny"
      },
      "source": [
        "# Atenção\n",
        "\n",
        "Para todas colunas que não existirem no \"df_to_be_scored\", você pode usar a técnica abaixo para adicioná-las:"
      ]
    },
    {
      "cell_type": "code",
      "metadata": {
        "scrolled": false,
        "id": "5ZvY0Cq_Cgnz"
      },
      "source": [
        "y_pred = xg_boost.predict(df_to_be_scored_3)\n",
        "df_to_be_scored['TARGET'] = y_pred\n",
        "df_to_be_scored.head()"
      ],
      "execution_count": null,
      "outputs": []
    },
    {
      "cell_type": "markdown",
      "metadata": {
        "id": "wjsuspFSCgn7"
      },
      "source": [
        "### Salvando a folha de respostas como um arquivo .csv para ser submetido"
      ]
    },
    {
      "cell_type": "code",
      "metadata": {
        "id": "F9kwvWZOCgn9"
      },
      "source": [
        "project.save_data(file_name=\"results.csv\", data=df_to_be_scored.to_csv(index=False))"
      ],
      "execution_count": null,
      "outputs": []
    },
    {
      "cell_type": "markdown",
      "metadata": {
        "id": "CAc7DtUmCgoI"
      },
      "source": [
        "# Atenção\n",
        "\n",
        "# A execução da célula acima irá criar um novo \"data asset\" no seu projeto no Watson Studio. Você precisará realizar o download deste arquivo juntamente com este notebook e criar um arquivo zip com os arquivos **results.csv** e **notebook.ipynb** para submissão. (os arquivos devem estar nomeados desta forma)"
      ]
    },
    {
      "cell_type": "markdown",
      "metadata": {
        "id": "brObkFeJCgoJ"
      },
      "source": [
        "<hr>\n",
        "\n",
        "## Parabéns!\n",
        "\n",
        "Se você já está satisfeito com a sua solução, vá até a página abaixo e envie os arquivos necessários para submissão.\n",
        "\n",
        "# https://tnt.maratona.dev\n"
      ]
    },
    {
      "cell_type": "code",
      "metadata": {
        "id": "1W_mzyg1CgoK"
      },
      "source": [
        ""
      ],
      "execution_count": null,
      "outputs": []
    }
  ]
}