{
  "nbformat": 4,
  "nbformat_minor": 0,
  "metadata": {
    "colab": {
      "name": "scrapping_reviews_fca.ipynb",
      "provenance": [],
      "collapsed_sections": []
    },
    "kernelspec": {
      "name": "python3",
      "display_name": "Python 3"
    }
  },
  "cells": [
    {
      "cell_type": "code",
      "metadata": {
        "id": "TicLLRgU2cw-"
      },
      "source": [
        "!apt-get update\n",
        "!apt install chromium-chromedriver\n",
        "!cp /usr/lib/chromium-browser/chromedriver /usr/bin\n",
        "!pip install selenium\n",
        "import sys\n",
        "sys.path.insert(0,'/usr/lib/chromium-browser/chromedriver')"
      ],
      "execution_count": null,
      "outputs": []
    },
    {
      "cell_type": "code",
      "metadata": {
        "id": "3EZJ8_4m3lAG"
      },
      "source": [
        "!pip install urllib3==1.21.1\n",
        "!pip install requests2\n",
        "!pip install pandas\n",
        "!pip install lxml\n",
        "!pip install beautifulsoup4"
      ],
      "execution_count": null,
      "outputs": []
    },
    {
      "cell_type": "code",
      "metadata": {
        "id": "pQBoG6N42F24"
      },
      "source": [
        "import time\n",
        "import requests\n",
        "import pandas as pd\n",
        "from bs4 import BeautifulSoup\n",
        "from selenium import webdriver\n",
        "\n",
        "chrome_options = webdriver.ChromeOptions()\n",
        "chrome_options.add_argument('--headless')\n",
        "chrome_options.add_argument('--no-sandbox')\n",
        "chrome_options.add_argument('--disable-dev-shm-usage')\n",
        "\n",
        "driver = webdriver.Chrome('chromedriver',options=chrome_options)"
      ],
      "execution_count": null,
      "outputs": []
    },
    {
      "cell_type": "code",
      "metadata": {
        "id": "zjSi4P-V8EWP"
      },
      "source": [
        "def get_reviews_on_carros_na_web(car_model, n_times):\n",
        "\n",
        "  base_url = \"https://www.carrosnaweb.com.br/opiniaolista.asp?curpage={index}&fabricante=Fiat&modelo={model}\"\n",
        "\n",
        "  index = 1\n",
        "\n",
        "  #Dictionary object used to store the reviews\n",
        "  raw_data = {}\n",
        "\n",
        "  while index <= n_times:\n",
        "\n",
        "    url = base_url.replace(\"{index}\", str(index))\n",
        "    url = url.replace(\"{model}\", car_model)\n",
        "\n",
        "    #Open the page according URL\n",
        "    driver.get(url)\n",
        "    \n",
        "    #Find the HTML element (table)    \n",
        "    element = driver.find_element_by_xpath(\"//html//body//table[2]//tbody//tr//td[1]//table//tbody//tr[5]//td//table[1]\")\n",
        "\n",
        "    #Get the element on HTML format\n",
        "    html_content = element.get_attribute('outerHTML')\n",
        "\n",
        "    #Do a parser on HTML element\n",
        "    soup = BeautifulSoup(html_content, 'lxml')\n",
        "\n",
        "    #Find the table on parsed element\n",
        "    table = soup.find('table')\n",
        "\n",
        "    #Loop on all table rows\n",
        "    for td in table.findChildren('td'):\n",
        "\n",
        "      #Get the textual content on row  \n",
        "      text = td.text\n",
        "  \n",
        "      # If the text on current row contains the word 'Fiat', means this is a review.\n",
        "      if \"Fiat\" in text:\n",
        "        #Split the text on lines \n",
        "        columns = text.splitlines()\n",
        "        #Store the review on Dictionary\n",
        "        raw_data[columns[9]] = [columns[11], columns[12], columns[13], columns[14], columns[15]]\n",
        "\n",
        "    #After to loop all rows on table, increment the index and go to next page\n",
        "    index += 1\n",
        "\n",
        "  #Convert the reviews on Pandas DataFrame and return them\n",
        "  return pd.DataFrame.from_dict(raw_data, orient='index')"
      ],
      "execution_count": null,
      "outputs": []
    },
    {
      "cell_type": "code",
      "metadata": {
        "id": "0oHpWQMYjBnn"
      },
      "source": [
        "# Import Drive API and authenticate.\n",
        "from google.colab import drive\n",
        "\n",
        "def save_reviews_on_csv_file(reviews, filename):\n",
        "  \n",
        "  # Mount your Drive to the Colab VM.\n",
        "  drive.mount('/gdrive', force_remount=True)\n",
        "\n",
        "  path = \"//gdrive//My Drive//\" + filename\n",
        "\n",
        "  # Write the DataFrame to CSV file.\n",
        "  with open(path, 'w') as f: \n",
        "\n",
        "    print(reviews)   \n",
        "\n",
        "    #Save into csv file\n",
        "    reviews.to_csv(path)"
      ],
      "execution_count": null,
      "outputs": []
    },
    {
      "cell_type": "code",
      "metadata": {
        "id": "v-vjJGPVktbx"
      },
      "source": [
        "reviews = get_reviews_on_carros_na_web(\"TORO\", 10)\n",
        "save_reviews_on_csv_file(reviews,\"toro_avaliacoes.csv\")"
      ],
      "execution_count": null,
      "outputs": []
    }
  ]
}