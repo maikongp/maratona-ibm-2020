{
  "nbformat": 4,
  "nbformat_minor": 0,
  "metadata": {
    "kernelspec": {
      "name": "python3",
      "display_name": "Python 3.6",
      "language": "python"
    },
    "language_info": {
      "name": "python",
      "version": "3.6.9",
      "mimetype": "text/x-python",
      "codemirror_mode": {
        "name": "ipython",
        "version": 3
      },
      "pygments_lexer": "ipython3",
      "nbconvert_exporter": "python",
      "file_extension": ".py"
    },
    "colab": {
      "name": "notebook.ipynb",
      "provenance": [],
      "collapsed_sections": [
        "POXhfW7JgyNZ",
        "7zPY5hCEgyN7",
        "9-JUBswLgyQD",
        "7RBmrdjLgyQY",
        "YQszRmpmgyRe",
        "-pfkwYgHgySR",
        "SoDjMwS4gyTB",
        "rZtp---NgyT_",
        "ERMu6TfQgyUX",
        "Un-WJXD1gyVB",
        "CnjVTev-gyWO",
        "FlNdfIdngyWn",
        "2w01NduSgyWp",
        "5LobcjCIgyXe"
      ]
    }
  },
  "cells": [
    {
      "cell_type": "code",
      "metadata": {
        "id": "jojt-BdtgyLX"
      },
      "source": [
        "# @hidden_cell\n",
        "# The project token is an authorization token that is used to access project resources like data sources, connections, and used by platform APIs.\n",
        "from project_lib import Project\n",
        "project = Project(project_id='', project_access_token='')\n",
        "pc = project.project_context\n"
      ],
      "execution_count": null,
      "outputs": []
    },
    {
      "cell_type": "markdown",
      "metadata": {
        "collapsed": true,
        "id": "VuFZ3TWzgyLk"
      },
      "source": [
        "# MARATONA BEHIND THE CODE 2020\n",
        "\n",
        "## DESAFIO 6 - LIT"
      ]
    },
    {
      "cell_type": "markdown",
      "metadata": {
        "id": "DzhghzP7gyLm"
      },
      "source": [
        "<hr>"
      ]
    },
    {
      "cell_type": "markdown",
      "metadata": {
        "id": "6Dyz1UylgyLn"
      },
      "source": [
        "## Installing Libs"
      ]
    },
    {
      "cell_type": "code",
      "metadata": {
        "id": "y0_tRcHWgyLp"
      },
      "source": [
        "!pip install scikit-learn --upgrade"
      ],
      "execution_count": null,
      "outputs": []
    },
    {
      "cell_type": "code",
      "metadata": {
        "id": "8y3X2PMZgyLz"
      },
      "source": [
        "!pip install xgboost==0.71 --upgrade"
      ],
      "execution_count": null,
      "outputs": []
    },
    {
      "cell_type": "code",
      "metadata": {
        "id": "rUVySZzogyL9"
      },
      "source": [
        "!pip install imblearn --upgrade"
      ],
      "execution_count": null,
      "outputs": []
    },
    {
      "cell_type": "markdown",
      "metadata": {
        "id": "hXw1hYRpgyMH"
      },
      "source": [
        "<hr>"
      ]
    },
    {
      "cell_type": "markdown",
      "metadata": {
        "id": "cK6p4JLTgyMJ"
      },
      "source": [
        "## Download dos conjuntos de dados em formato .csv"
      ]
    },
    {
      "cell_type": "code",
      "metadata": {
        "id": "rgaH-IOggyML"
      },
      "source": [
        "import pandas as pd\n",
        "import numpy as np\n",
        "\n",
        "# \"SimpleImputer\" é uma transformação para preencher valores faltantes em conjuntos de dados\n",
        "from sklearn.impute import SimpleImputer\n",
        "\n",
        "# Método para separação de conjunto de dados em amostras de treino e teste\n",
        "from sklearn.model_selection import train_test_split\n",
        "\n",
        "# Método para criação de modelos baseados en arvore de decisão\n",
        "from sklearn.tree import DecisionTreeClassifier\n",
        "\n",
        "# Método para construção de modelo baseado na técnica Gradient Boosting\n",
        "from xgboost import XGBClassifier\n",
        "\n",
        "# Método para criação de modelos baseados na técnica KNN\n",
        "from sklearn.neighbors import KNeighborsClassifier\n",
        "\n",
        "# Método para criação de modelos baseados na técnica Naive Bayes\n",
        "from sklearn.naive_bayes import GaussianNB\n",
        "\n",
        "# Método para técnicas de avaliação do modelo treinado\n",
        "from sklearn.metrics import accuracy_score, confusion_matrix, classification_report\n",
        "\n",
        "# Métodos para balanceamento de classes\n",
        "from imblearn.under_sampling import NearMiss\n",
        "from imblearn.over_sampling import SMOTE"
      ],
      "execution_count": null,
      "outputs": []
    },
    {
      "cell_type": "code",
      "metadata": {
        "id": "bpEBNUxDgyMT"
      },
      "source": [
        "!wget --no-check-certificate --content-disposition https://raw.githubusercontent.com/vanderlei-test/dataset-3/master/training_dataset.csv\n",
        "df_training_dataset = pd.read_csv(r'training_dataset.csv')\n",
        "df_training_dataset.tail()"
      ],
      "execution_count": null,
      "outputs": []
    },
    {
      "cell_type": "markdown",
      "metadata": {
        "id": "X14De5rYgyMd"
      },
      "source": [
        "Sobre o arquivo \"training_dataset.csv\", temos algumas informações gerais sobre os usuários da plataforma:\n",
        "\n",
        "**id**\n",
        "\n",
        "**graduacao**\n",
        "\n",
        "**universidade**\n",
        "\n",
        "**profissao**\n",
        "\n",
        "**organizacao**\n",
        "\n",
        "**pretende_fazer_cursos_lit**\n",
        "\n",
        "**interesse_mba_lit**\n",
        "\n",
        "**importante_ter_certificado**\n",
        "\n",
        "**horas_semanais_estudo**\n",
        "\n",
        "**como_conheceu_lit**\n",
        "\n",
        "**total_modulos**\n",
        "\n",
        "**modulos_iniciados**\n",
        "\n",
        "**modulos_finalizados**\n",
        "\n",
        "**certificados**\n",
        "\n",
        "**categoria**"
      ]
    },
    {
      "cell_type": "code",
      "metadata": {
        "id": "Upwi9RsLgyMf"
      },
      "source": [
        "df_training_dataset.info()"
      ],
      "execution_count": null,
      "outputs": []
    },
    {
      "cell_type": "code",
      "metadata": {
        "id": "G6dB8gkngyMo"
      },
      "source": [
        "df_training_dataset.nunique()"
      ],
      "execution_count": null,
      "outputs": []
    },
    {
      "cell_type": "code",
      "metadata": {
        "id": "IZcCyk_mgyMv"
      },
      "source": [
        "df_training_dataset.describe()"
      ],
      "execution_count": null,
      "outputs": []
    },
    {
      "cell_type": "markdown",
      "metadata": {
        "id": "xzU8gxjzgyM2"
      },
      "source": [
        "# Analisando os dados"
      ]
    },
    {
      "cell_type": "code",
      "metadata": {
        "id": "ifLwaiz0gyM4"
      },
      "source": [
        "import matplotlib.pyplot as plt\n",
        "import seaborn as sns"
      ],
      "execution_count": null,
      "outputs": []
    },
    {
      "cell_type": "markdown",
      "metadata": {
        "id": "_bu1jDnrgyM-"
      },
      "source": [
        "## Nível de formação e profissão dos usuários da plataforma"
      ]
    },
    {
      "cell_type": "code",
      "metadata": {
        "id": "joG943X1gyNA"
      },
      "source": [
        "f, axes = plt.subplots(nrows=5, ncols=1, figsize=(30,30))\n",
        "\n",
        "sns.countplot(x=\"graduacao\", data=df_training_dataset, ax=axes[0])\n",
        "sns.countplot(x=\"universidade\", data=df_training_dataset, ax=axes[1])\n",
        "sns.countplot(x=\"profissao\", data=df_training_dataset, ax=axes[2])\n",
        "sns.countplot(x=\"organizacao\", data=df_training_dataset, ax=axes[3])\n",
        "sns.countplot(x=\"como_conheceu_lit\", data=df_training_dataset, ax=axes[4])"
      ],
      "execution_count": null,
      "outputs": []
    },
    {
      "cell_type": "markdown",
      "metadata": {
        "id": "zr0r9vWKgyNJ"
      },
      "source": [
        "## Analisando o balanceamento das classes"
      ]
    },
    {
      "cell_type": "code",
      "metadata": {
        "id": "1kjPSd1xgyNK"
      },
      "source": [
        "f, axes = plt.subplots(nrows=1, ncols=1, figsize=(20,5))\n",
        "\n",
        "sns.countplot(x=\"categoria\", data=df_training_dataset)"
      ],
      "execution_count": null,
      "outputs": []
    },
    {
      "cell_type": "markdown",
      "metadata": {
        "id": "Jo8RoE18gyNS"
      },
      "source": [
        "## Mapa de correlação entre as variaveis"
      ]
    },
    {
      "cell_type": "code",
      "metadata": {
        "id": "lvsR8ghpgyNT"
      },
      "source": [
        "#Selecionando features númericas\n",
        "df = df_training_dataset.iloc[:, 5:15]\n",
        "df = df.drop(columns=[\"como_conheceu_lit\"])\n",
        "#Replace NaN values por 0\n",
        "df.fillna(0, inplace=True)\n",
        "\n",
        "f, axes = plt.subplots(figsize=(15,5))\n",
        "\n",
        "sns.heatmap(data=df.corr(), annot=True, vmin=-1, vmax=1, center=0)"
      ],
      "execution_count": null,
      "outputs": []
    },
    {
      "cell_type": "markdown",
      "metadata": {
        "id": "POXhfW7JgyNZ"
      },
      "source": [
        "## Analise dos alunos por perfil"
      ]
    },
    {
      "cell_type": "code",
      "metadata": {
        "id": "0rUvpd9BgyNb",
        "outputId": "5765ebc6-c98c-4134-e524-feddb2a6f770"
      },
      "source": [
        "criteria = \"perfil1\"\n",
        "\n",
        "f, axes = plt.subplots(nrows=4, ncols=1, figsize=(25,20))\n",
        "\n",
        "df = df_training_dataset[df_training_dataset[\"categoria\"]==criteria]\n",
        "\n",
        "sns.countplot(x=\"graduacao\", data=df, ax=axes[0])\n",
        "sns.countplot(x=\"profissao\", data=df, ax=axes[1])\n",
        "sns.countplot(x=\"organizacao\", data=df, ax=axes[2])\n",
        "sns.countplot(x=\"como_conheceu_lit\", data=df, ax=axes[3])"
      ],
      "execution_count": null,
      "outputs": [
        {
          "output_type": "execute_result",
          "data": {
            "text/plain": [
              "<matplotlib.axes._subplots.AxesSubplot at 0x7fdb76aa8b38>"
            ]
          },
          "metadata": {
            "tags": []
          },
          "execution_count": 14
        },
        {
          "output_type": "display_data",
          "data": {
            "text/plain": [
              "<Figure size 1800x1440 with 4 Axes>"
            ],
            "image/png": "[encoded data removed]"
          },
          "metadata": {
            "tags": [],
            "needs_background": "light"
          }
        }
      ]
    },
    {
      "cell_type": "markdown",
      "metadata": {
        "id": "D6Qq3_J_gyNh"
      },
      "source": [
        "## Analisando os outliers"
      ]
    },
    {
      "cell_type": "code",
      "metadata": {
        "id": "qT0S_qWqgyNj"
      },
      "source": [
        "f, axes = plt.subplots(nrows=3, ncols=2, figsize=(25,30))\n",
        "\n",
        "sns.boxplot(x=\"categoria\", y=\"horas_semanais_estudo\", data=df_training_dataset, ax=axes[0,0])\n",
        "sns.boxplot(x=\"categoria\", y=\"total_modulos\", data=df_training_dataset, ax=axes[0,1])\n",
        "sns.boxplot(x=\"categoria\", y=\"modulos_iniciados\", data=df_training_dataset, ax=axes[1,0])\n",
        "sns.boxplot(x=\"categoria\", y=\"modulos_finalizados\", data=df_training_dataset, ax=axes[1,1])\n",
        "sns.boxplot(x=\"categoria\", y=\"certificados\", data=df_training_dataset, ax=axes[2,0])"
      ],
      "execution_count": null,
      "outputs": []
    },
    {
      "cell_type": "code",
      "metadata": {
        "id": "XQGu4sn7gyNp"
      },
      "source": [
        "feature_name = \"modulos_finalizados\"\n",
        "\n",
        " # Primeiro quartil - representa 25% dos dados\n",
        "Q1 = df_training_dataset[feature_name].quantile(0.25)\n",
        "# Terceiro quartil - representa 75% dos dados\n",
        "Q3 = df_training_dataset[feature_name].quantile(0.75)\n",
        "#Intervalo inter-quartil (Q3-Q1)\n",
        "IQR = Q3 - Q1\n",
        "# Limite máximo\n",
        "max_lim = Q3 + 1.5 * IQR\n",
        "# Limite mínimo\n",
        "min_lim = Q1 - 1.5 * IQR\n",
        "\n",
        "df = df_training_dataset[df_training_dataset[feature_name] > max_lim]\n",
        "\n",
        "f, axes = plt.subplots(nrows=3, ncols=1, figsize=(20,20))\n",
        "\n",
        "sns.countplot(x=\"categoria\", data=df, ax=axes[0])\n",
        "sns.countplot(x=\"graduacao\", data=df, ax=axes[1])\n",
        "sns.countplot(x=\"profissao\", data=df, ax=axes[2])"
      ],
      "execution_count": null,
      "outputs": []
    },
    {
      "cell_type": "markdown",
      "metadata": {
        "id": "eMV-0OIVgyNx"
      },
      "source": [
        "## Analisando variaveis binárias"
      ]
    },
    {
      "cell_type": "code",
      "metadata": {
        "id": "5BKO6lqjgyNy"
      },
      "source": [
        "feature_name = \"pretende_fazer_cursos_lit\"\n",
        "criteria = 0\n",
        "\n",
        "df = df_training_dataset[df_training_dataset[feature_name] == criteria]\n",
        "\n",
        "f, axes = plt.subplots(nrows=3, ncols=1, figsize=(20,20))\n",
        "\n",
        "sns.countplot(x=\"categoria\", data=df, ax=axes[0])\n",
        "sns.countplot(x=\"graduacao\", data=df, ax=axes[1])\n",
        "sns.countplot(x=\"profissao\", data=df, ax=axes[2])"
      ],
      "execution_count": null,
      "outputs": []
    },
    {
      "cell_type": "markdown",
      "metadata": {
        "id": "7zPY5hCEgyN7"
      },
      "source": [
        "<hr>\n",
        "\n",
        "## Detalhamento do desafio: classificação multiclasse\n",
        "\n",
        "Este é um desafio cujo objetivo de negócio é a segmentação dos usuários de uma plataforma de ensino. Para tal, podemos utilizar duas abordagens: aprendizado de máquina supervisionado (classificação) ou não-supervisionado (clustering). Neste desafio será aplicada a classificação, pois é disponível um dataset já com \"labels\", ou em outras palavras, já com exemplos de dados juntamente com a variável alvo.\n",
        "\n",
        "Na biblioteca scikit-learn temos diversos algoritmos para classificação. O participante é livre para utilizar o framework que desejar para completar esse desafio.\n",
        "\n",
        "Neste notebook será mostrado um exeplo de uso do algoritmo \"Decision Tree\" para classificar parte dos estudantes em seis diferentes perfís."
      ]
    },
    {
      "cell_type": "markdown",
      "metadata": {
        "id": "5VR9yM9YgyN-"
      },
      "source": [
        "# Atenção!\n",
        "\n",
        "A coluna-alvo neste desafio é a coluna ``categoria``"
      ]
    },
    {
      "cell_type": "markdown",
      "metadata": {
        "id": "mDKtZM_2gyN_"
      },
      "source": [
        "<hr>"
      ]
    },
    {
      "cell_type": "markdown",
      "metadata": {
        "id": "N3oZRR9JgyOA"
      },
      "source": [
        "# Pré processamento (Maikon)"
      ]
    },
    {
      "cell_type": "markdown",
      "metadata": {
        "id": "bVwcW4QNgyOB"
      },
      "source": [
        "## Transformação 1 - Remoção de algumas colunas:"
      ]
    },
    {
      "cell_type": "markdown",
      "metadata": {
        "id": "jbILYcd7gyOC"
      },
      "source": [
        "Colunas:\n",
        "    * id - coluna de identificação dos alunos, pode gerar mtos ruidos na classificação;\n",
        "    * universidade, organização e profissão, pois na analise dos dados foi observado que seus valores estão bem equilibrados entre as classes.\n",
        "    A primeira vista, não há nenhum padrão nestas features que ajude o modelo na identificação das classes;\n",
        "    * importante_ter_certificado - optei por remover, pois a coluna certificados será adaptada para ser uma coluna binária.\n",
        "    * como_conheceu_lit - não tenho justificativa para remoção, mas no momento optei por deixar só 1 coluna categorica (graduação);\n",
        "    * interesse_mba_lit, pois tem forte correlação com pretende_fazer_cursos_lit;\n",
        "    * modulos_iniciados, pois tem forte correlação com modulos_finalizados."
      ]
    },
    {
      "cell_type": "code",
      "metadata": {
        "id": "5UfNMKnTgyOE"
      },
      "source": [
        "df_training_dataset = df_training_dataset.drop(columns=['id', 'universidade', 'organizacao', 'profissao', 'pretende_fazer_cursos_lit', 'importante_ter_certificado', 'como_conheceu_lit', 'interesse_mba_lit', 'modulos_iniciados'])\n",
        "df_training_dataset.head()"
      ],
      "execution_count": null,
      "outputs": []
    },
    {
      "cell_type": "markdown",
      "metadata": {
        "id": "hN3efg9dgyOL"
      },
      "source": [
        "## Transformação 2 - Coluna Profissão:"
      ]
    },
    {
      "cell_type": "code",
      "metadata": {
        "id": "JR_NoujMgyOM"
      },
      "source": [
        "# Aplica o valor 'Nao Especificado' a todas as linhas com missing values (null).\n",
        "s_imputer = SimpleImputer(missing_values=np.nan, strategy='constant', fill_value='Nao Especificado', verbose=0, copy=True)\n",
        "# Define a coluna 'profissao' como dataset\n",
        "s_imputer.fit(X=df_training_dataset[[\"profissao\"]])\n",
        "#aplica o simple imputer transform\n",
        "df_training_dataset[\"profissao\"] = s_imputer.transform(X=df_training_dataset[[\"profissao\"]])\n",
        "\n",
        "#As linhas que estão com o valor 'Outros' serão renomeadas para 'Não Especificado', para não ficar redundante.\n",
        "df_training_dataset[\"profissao\"] = df_training_dataset[\"profissao\"].apply(lambda x: 'Nao Especificado' if x=='Outros' else x)"
      ],
      "execution_count": null,
      "outputs": []
    },
    {
      "cell_type": "code",
      "metadata": {
        "id": "MPdbE2ijgyOS"
      },
      "source": [
        "#Um pequeno teste, apenas o gráfico de barras das profissões.\n",
        "\n",
        "f, axes = plt.subplots(figsize=(20,5))\n",
        "sns.countplot(x=\"profissao\", data=df_training_dataset)"
      ],
      "execution_count": null,
      "outputs": []
    },
    {
      "cell_type": "markdown",
      "metadata": {
        "id": "W7FRbdMUgyOY"
      },
      "source": [
        "## Transformação 3 - Coluna Graduação"
      ]
    },
    {
      "cell_type": "code",
      "metadata": {
        "id": "W1H3escugyOZ"
      },
      "source": [
        "# Aplica o valor 'Nao Especificado' a todas as linhas com missing values (null).\n",
        "s_imputer = SimpleImputer(missing_values=np.nan, strategy='constant', fill_value='Nao Especificado', verbose=0, copy=True)\n",
        "# Define a coluna 'graduacao' como dataset\n",
        "s_imputer.fit(X=df_training_dataset[[\"graduacao\"]])\n",
        "#aplica o simple imputer transform\n",
        "df_training_dataset[\"graduacao\"] = s_imputer.transform(X=df_training_dataset[[\"graduacao\"]])"
      ],
      "execution_count": null,
      "outputs": []
    },
    {
      "cell_type": "code",
      "metadata": {
        "id": "Sob6HiQGgyOk"
      },
      "source": [
        "#Um pequeno teste, apenas o gráfico de barras das graduacoes.\n",
        "\n",
        "f, axes = plt.subplots(figsize=(20,5))\n",
        "sns.countplot(x=\"graduacao\", data=df_training_dataset)"
      ],
      "execution_count": null,
      "outputs": []
    },
    {
      "cell_type": "markdown",
      "metadata": {
        "id": "P-VzLCySgyOr"
      },
      "source": [
        "## Transformação 4 - Coluna Certificados"
      ]
    },
    {
      "cell_type": "code",
      "metadata": {
        "id": "fDndNDD-gyOt"
      },
      "source": [
        "#Parte 1 - Para os valores missing values, será atribuido o valor 0.\n",
        "s_imputer = SimpleImputer(missing_values=np.nan, strategy='constant', fill_value=0, verbose=0, copy=True)\n",
        "# Define a coluna 'certificados' como dataset\n",
        "s_imputer.fit(X=df_training_dataset[[\"certificados\"]])\n",
        "#aplica o simple imputer transform\n",
        "df_training_dataset[\"certificados\"] = s_imputer.transform(X=df_training_dataset[[\"certificados\"]])\n",
        "\n",
        "#Parte 2 - Como esta coluna já tinha muitos zeros, optei por transforma-la em binária (0 - não tem certificado e 1 - tem 1 ou mais certificado)\n",
        "df_training_dataset[\"certificados\"] = df_training_dataset[\"certificados\"].apply(lambda x: 1 if x > 0 else x)"
      ],
      "execution_count": null,
      "outputs": []
    },
    {
      "cell_type": "code",
      "metadata": {
        "id": "B7uDn9BIgyOy"
      },
      "source": [
        "f, axes = plt.subplots(figsize=(20, 5))\n",
        "sns.countplot(x=\"categoria\", hue=\"certificados\", data=df_training_dataset)"
      ],
      "execution_count": null,
      "outputs": []
    },
    {
      "cell_type": "markdown",
      "metadata": {
        "id": "VvCl6gFTgyO5"
      },
      "source": [
        "## Transformação 5 - Coluna Horas Semanais Estudo"
      ]
    },
    {
      "cell_type": "code",
      "metadata": {
        "id": "WFj2T9hWgyO6"
      },
      "source": [
        "#Atualiza os missing values da coluna horas_semanais_estudo c/ a mediana.\n",
        "s_imputer = SimpleImputer(missing_values=np.nan, strategy='median', verbose=0, copy=True)\n",
        "# Define a coluna 'horas_semanais_estudo' como dataset\n",
        "s_imputer.fit(X=df_training_dataset[[\"horas_semanais_estudo\"]])\n",
        "#aplica o simple imputer transform\n",
        "df_training_dataset[\"horas_semanais_estudo\"] = s_imputer.transform(X=df_training_dataset[[\"horas_semanais_estudo\"]])"
      ],
      "execution_count": null,
      "outputs": []
    },
    {
      "cell_type": "markdown",
      "metadata": {
        "id": "IGwOMfdOgyPA"
      },
      "source": [
        "## Transformação 6 - Coluna Total módulos "
      ]
    },
    {
      "cell_type": "code",
      "metadata": {
        "id": "cRQLhFYRgyPB"
      },
      "source": [
        "#Atualiza os missing values da coluna total_modulos c/ a mediana.\n",
        "s_imputer = SimpleImputer(missing_values=np.nan, strategy='median', verbose=0, copy=True)\n",
        "# Define a coluna 'total_modulos' como dataset\n",
        "s_imputer.fit(X=df_training_dataset[[\"total_modulos\"]])\n",
        "#aplica o simple imputer transform\n",
        "df_training_dataset[\"total_modulos\"] = s_imputer.transform(X=df_training_dataset[[\"total_modulos\"]])"
      ],
      "execution_count": null,
      "outputs": []
    },
    {
      "cell_type": "markdown",
      "metadata": {
        "id": "B8LpN4VPgyPI"
      },
      "source": [
        "## Transformação 7 - Coluna Módulos finalizados"
      ]
    },
    {
      "cell_type": "code",
      "metadata": {
        "id": "bcJ-zTK-gyPJ"
      },
      "source": [
        "#Atualiza os missing values da coluna modulos_finalizados c/ a mediana.\n",
        "s_imputer = SimpleImputer(missing_values=np.nan, strategy='median', verbose=0, copy=True)\n",
        "# Define a coluna 'modulos_finalizados' como dataset\n",
        "s_imputer.fit(X=df_training_dataset[[\"modulos_finalizados\"]])\n",
        "#aplica o simple imputer transform\n",
        "df_training_dataset[\"modulos_finalizados\"] = s_imputer.transform(X=df_training_dataset[[\"modulos_finalizados\"]])"
      ],
      "execution_count": null,
      "outputs": []
    },
    {
      "cell_type": "markdown",
      "metadata": {
        "id": "oRhEwxPogyPP"
      },
      "source": [
        "## Transformação 8 - Ajuste dos outliers"
      ]
    },
    {
      "cell_type": "code",
      "metadata": {
        "id": "XxiucFa1gyPQ"
      },
      "source": [
        "from sklearn.base import BaseEstimator, TransformerMixin\n",
        "\n",
        "# All sklearn Transforms must have the `transform` and `fit` methods\n",
        "# Os outliers serão ajustados utilizando a técnica IQR Score\n",
        "class HandleOutliers(BaseEstimator, TransformerMixin):\n",
        "    def __init__(self, columns):\n",
        "        self.columns = columns        \n",
        "\n",
        "    def fit(self, X, y=None):\n",
        "        return self\n",
        "    \n",
        "    def transform(self, X):\n",
        "        # Primeiro realizamos uma cópia do dataframe 'X' de entrada\n",
        "        data = X.copy()\n",
        "        # Para cada coluna que se deseja remover os outliers\n",
        "        for c in self.columns:            \n",
        "            # Primeiro quartil - representa 25% dos dados\n",
        "            Q1 = data[c].quantile(0.25)\n",
        "            # Terceiro quartil - representa 75% dos dados\n",
        "            Q3 = data[c].quantile(0.75)\n",
        "            #Intervalo inter-quartil (Q3-Q1)\n",
        "            IQR = Q3 - Q1\n",
        "            # Limite máximo\n",
        "            max_lim = Q3 + 1.5 * IQR\n",
        "            # Limite mínimo\n",
        "            min_lim = Q1 - 1.5 * IQR\n",
        "            #Set the limite mínimo\n",
        "            data[c] = data[c].apply(lambda x: min_lim if x < min_lim else x)\n",
        "            #Set the limite máximo\n",
        "            data[c] = data[c].apply(lambda x: max_lim if x > max_lim else x)\n",
        "        \n",
        "        return data"
      ],
      "execution_count": null,
      "outputs": []
    },
    {
      "cell_type": "code",
      "metadata": {
        "id": "DE5rdsRdgyPV"
      },
      "source": [
        "# Essa transformação recebe como parâmetro uma lista com os nomes das colunas em que se deseja ajustar os outliers\n",
        "outliers = HandleOutliers(columns=[\"modulos_finalizados\", \"total_modulos\"])\n",
        "\n",
        "# Aplicando a transformação ``HandleOutliers`` ao conjunto de dados base\n",
        "outliers.fit(X=df_training_dataset)\n",
        "\n",
        "# Reconstruindo um DataFrame Pandas com o resultado da transformação\n",
        "df_training_dataset = pd.DataFrame.from_records(data=outliers.transform(X=df_training_dataset),)"
      ],
      "execution_count": null,
      "outputs": []
    },
    {
      "cell_type": "markdown",
      "metadata": {
        "id": "doRuVhQ6gyPa"
      },
      "source": [
        "## Reanalise dos outliers das colunas númericas"
      ]
    },
    {
      "cell_type": "code",
      "metadata": {
        "id": "mNuxpfTrgyPc"
      },
      "source": [
        "f, axes = plt.subplots(nrows=1, ncols=3, figsize=(25,5))\n",
        "\n",
        "sns.boxplot(y=\"horas_semanais_estudo\", data=df_training_dataset, ax=axes[0])\n",
        "sns.boxplot(y=\"total_modulos\", data=df_training_dataset, ax=axes[1])\n",
        "sns.boxplot(y=\"modulos_finalizados\", data=df_training_dataset, ax=axes[2])"
      ],
      "execution_count": null,
      "outputs": []
    },
    {
      "cell_type": "markdown",
      "metadata": {
        "id": "3kwE-04PgyPh"
      },
      "source": [
        "## Transformação 8 - Tratamento das variáveis categóricas c/ dummies"
      ]
    },
    {
      "cell_type": "code",
      "metadata": {
        "id": "jekidrbggyPj"
      },
      "source": [
        "# Tratando variáveis categóricas com o método Pandas ``get_dummies()''\n",
        "df_training = pd.get_dummies(df_training_dataset, columns=['graduacao'])\n",
        "df_training.tail()"
      ],
      "execution_count": null,
      "outputs": []
    },
    {
      "cell_type": "markdown",
      "metadata": {
        "id": "AMpmN4P1gyPs"
      },
      "source": [
        "## Pre-processando o dataset antes do treinamento"
      ]
    },
    {
      "cell_type": "markdown",
      "metadata": {
        "id": "iAU_ytMJgyPu"
      },
      "source": [
        "### Removendo todas as linhas que possuem algum valor nulos em determinadas colunas"
      ]
    },
    {
      "cell_type": "markdown",
      "metadata": {
        "id": "A5YNpLtcgyPv"
      },
      "source": [
        "Usando o método Pandas **DataFrame.dropna()** você pode remover todas as linhas nulas do dataset.\n",
        "\n",
        "Docs: https://pandas.pydata.org/pandas-docs/stable/reference/api/pandas.DataFrame.dropna.html"
      ]
    },
    {
      "cell_type": "code",
      "metadata": {
        "id": "XbOGAbBdgyPw"
      },
      "source": [
        "# Exibindo os dados ausentes do conjunto de dados antes da primeira transformação (df)\n",
        "print(\"Valores nulos no df_training_dataset antes da transformação DropNA: \\n\\n{}\\n\".format(df_training_dataset.isnull().sum(axis = 0)))"
      ],
      "execution_count": null,
      "outputs": []
    },
    {
      "cell_type": "code",
      "metadata": {
        "id": "8o71vJCtgyP2"
      },
      "source": [
        "# Aplicando a função para deletar todas as linhas com valor NaN na coluna ``certificados'' e ``total_modulos'':\n",
        "df_training_dataset = df_training_dataset.dropna(axis='index', how='any', subset=['certificados', 'total_modulos'])"
      ],
      "execution_count": null,
      "outputs": []
    },
    {
      "cell_type": "code",
      "metadata": {
        "scrolled": true,
        "id": "16XHp4KNgyP9"
      },
      "source": [
        "# Exibindo os dados ausentes do conjunto de dados após a primeira transformação (df)\n",
        "print(\"Valores nulos no df_training_dataset após a transformação DropNA: \\n\\n{}\\n\".format(df_training_dataset.isnull().sum(axis = 0)))"
      ],
      "execution_count": null,
      "outputs": []
    },
    {
      "cell_type": "markdown",
      "metadata": {
        "id": "9-JUBswLgyQD"
      },
      "source": [
        "### Processando valores NaN com o SimpleImputer do sklearn\n",
        "\n",
        "Para os valores NaN, usaremos a substituição pela constante 0 como **exemplo**.\n",
        "\n",
        "Você pode escolher a estratégia que achar melhor para tratar os valores nulos :)\n",
        "\n",
        "Docs: https://scikit-learn.org/stable/modules/generated/sklearn.impute.SimpleImputer.html?highlight=simpleimputer#sklearn.impute.SimpleImputer"
      ]
    },
    {
      "cell_type": "code",
      "metadata": {
        "id": "Mbtzycw-gyQF"
      },
      "source": [
        "from sklearn.impute import SimpleImputer\n",
        "import numpy as np\n",
        "\n",
        "\n",
        "impute_zeros = SimpleImputer(\n",
        "    missing_values=np.nan,\n",
        "    strategy='constant',\n",
        "    fill_value=0,\n",
        "    verbose=0,\n",
        "    copy=True\n",
        ")"
      ],
      "execution_count": null,
      "outputs": []
    },
    {
      "cell_type": "code",
      "metadata": {
        "id": "JU_rV1lxgyQQ",
        "outputId": "4adb9e71-83f0-4343-8131-03b17e7b33d9"
      },
      "source": [
        "# Exibindo os dados ausentes do conjunto de dados antes da primeira transformação (df)\n",
        "print(\"Valores nulos no df_training_dataset antes da transformação SimpleImputer: \\n\\n{}\\n\".format(df_training_dataset.isnull().sum(axis = 0)))\n",
        "\n",
        "# Aplicando a transformação ``SimpleImputer`` no conjunto de dados base\n",
        "impute_zeros.fit(X=df_training_dataset)\n",
        "\n",
        "# Reconstruindo um Pandas DataFrame com os resultados\n",
        "df_training_dataset_imputed = pd.DataFrame.from_records(\n",
        "    data=impute_zeros.transform(\n",
        "        X=df_training_dataset\n",
        "    ),\n",
        "    columns=df_training_dataset.columns\n",
        ")\n",
        "\n",
        "# Exibindo os dados ausentes do conjunto de dados após a primeira transformação (df)\n",
        "print(\"Valores nulos no df_training_dataset após a transformação SimpleImputer: \\n\\n{}\\n\".format(df_training_dataset_imputed.isnull().sum(axis = 0)))"
      ],
      "execution_count": null,
      "outputs": [
        {
          "output_type": "stream",
          "text": [
            "Valores nulos no df_training_dataset antes da transformação SimpleImputer: \n",
            "\n",
            "graduacao                0\n",
            "profissao                0\n",
            "horas_semanais_estudo    0\n",
            "total_modulos            0\n",
            "modulos_finalizados      0\n",
            "certificados             0\n",
            "categoria                0\n",
            "dtype: int64\n",
            "\n",
            "Valores nulos no df_training_dataset após a transformação SimpleImputer: \n",
            "\n",
            "graduacao                0\n",
            "profissao                0\n",
            "horas_semanais_estudo    0\n",
            "total_modulos            0\n",
            "modulos_finalizados      0\n",
            "certificados             0\n",
            "categoria                0\n",
            "dtype: int64\n",
            "\n"
          ],
          "name": "stdout"
        }
      ]
    },
    {
      "cell_type": "markdown",
      "metadata": {
        "id": "7RBmrdjLgyQY"
      },
      "source": [
        "### Eliminando colunas indesejadas\n",
        "\n",
        "Vamos **demonstrar** abaixo como usar o método **DataFrame.drop()**.\n",
        "\n",
        "Docs: https://pandas.pydata.org/pandas-docs/stable/reference/api/pandas.DataFrame.drop.html"
      ]
    },
    {
      "cell_type": "code",
      "metadata": {
        "id": "fwV2fW2PgyQZ",
        "outputId": "083e36b9-938e-49d6-a183-e0024d5ed311"
      },
      "source": [
        "df_training_dataset_imputed.tail()"
      ],
      "execution_count": null,
      "outputs": [
        {
          "output_type": "execute_result",
          "data": {
            "text/plain": [
              "              graduacao                profissao  horas_semanais_estudo  \\\n",
              "15852       Bacharelado         Nao Especificado                    8.0   \n",
              "15853       Bacharelado                 Advogado                    7.0   \n",
              "15854         Tecnólogo  Sócio/Dono/Proprietário                    7.0   \n",
              "15855      SEM FORMAÇÃO                 Advogado                   10.0   \n",
              "15856  Nao Especificado         Nao Especificado                    9.0   \n",
              "\n",
              "       total_modulos  modulos_finalizados  certificados categoria  \n",
              "15852           10.0                 13.0           0.0   perfil6  \n",
              "15853           42.0                 15.0           0.0   perfil5  \n",
              "15854           30.0                  8.0           0.0   perfil5  \n",
              "15855          226.0                 93.0           1.0   perfil1  \n",
              "15856          125.0                 97.0           1.0   perfil1  "
            ],
            "text/html": [
              "<div>\n",
              "<style scoped>\n",
              "    .dataframe tbody tr th:only-of-type {\n",
              "        vertical-align: middle;\n",
              "    }\n",
              "\n",
              "    .dataframe tbody tr th {\n",
              "        vertical-align: top;\n",
              "    }\n",
              "\n",
              "    .dataframe thead th {\n",
              "        text-align: right;\n",
              "    }\n",
              "</style>\n",
              "<table border=\"1\" class=\"dataframe\">\n",
              "  <thead>\n",
              "    <tr style=\"text-align: right;\">\n",
              "      <th></th>\n",
              "      <th>graduacao</th>\n",
              "      <th>profissao</th>\n",
              "      <th>horas_semanais_estudo</th>\n",
              "      <th>total_modulos</th>\n",
              "      <th>modulos_finalizados</th>\n",
              "      <th>certificados</th>\n",
              "      <th>categoria</th>\n",
              "    </tr>\n",
              "  </thead>\n",
              "  <tbody>\n",
              "    <tr>\n",
              "      <th>15852</th>\n",
              "      <td>Bacharelado</td>\n",
              "      <td>Nao Especificado</td>\n",
              "      <td>8.0</td>\n",
              "      <td>10.0</td>\n",
              "      <td>13.0</td>\n",
              "      <td>0.0</td>\n",
              "      <td>perfil6</td>\n",
              "    </tr>\n",
              "    <tr>\n",
              "      <th>15853</th>\n",
              "      <td>Bacharelado</td>\n",
              "      <td>Advogado</td>\n",
              "      <td>7.0</td>\n",
              "      <td>42.0</td>\n",
              "      <td>15.0</td>\n",
              "      <td>0.0</td>\n",
              "      <td>perfil5</td>\n",
              "    </tr>\n",
              "    <tr>\n",
              "      <th>15854</th>\n",
              "      <td>Tecnólogo</td>\n",
              "      <td>Sócio/Dono/Proprietário</td>\n",
              "      <td>7.0</td>\n",
              "      <td>30.0</td>\n",
              "      <td>8.0</td>\n",
              "      <td>0.0</td>\n",
              "      <td>perfil5</td>\n",
              "    </tr>\n",
              "    <tr>\n",
              "      <th>15855</th>\n",
              "      <td>SEM FORMAÇÃO</td>\n",
              "      <td>Advogado</td>\n",
              "      <td>10.0</td>\n",
              "      <td>226.0</td>\n",
              "      <td>93.0</td>\n",
              "      <td>1.0</td>\n",
              "      <td>perfil1</td>\n",
              "    </tr>\n",
              "    <tr>\n",
              "      <th>15856</th>\n",
              "      <td>Nao Especificado</td>\n",
              "      <td>Nao Especificado</td>\n",
              "      <td>9.0</td>\n",
              "      <td>125.0</td>\n",
              "      <td>97.0</td>\n",
              "      <td>1.0</td>\n",
              "      <td>perfil1</td>\n",
              "    </tr>\n",
              "  </tbody>\n",
              "</table>\n",
              "</div>"
            ]
          },
          "metadata": {
            "tags": []
          },
          "execution_count": 35
        }
      ]
    },
    {
      "cell_type": "code",
      "metadata": {
        "id": "kE5A1ic2gyRF"
      },
      "source": [
        "df_training_dataset_rmcolumns = df_training_dataset_imputed.drop(columns=['id', 'graduacao', 'universidade', 'organizacao', 'como_conheceu_lit'], inplace=False)"
      ],
      "execution_count": null,
      "outputs": []
    },
    {
      "cell_type": "code",
      "metadata": {
        "id": "7-n3xbjugyRR"
      },
      "source": [
        "df_training_dataset_rmcolumns.tail()"
      ],
      "execution_count": null,
      "outputs": []
    },
    {
      "cell_type": "markdown",
      "metadata": {
        "id": "Swz-QOzbgyRc"
      },
      "source": [
        "# Atenção!\n",
        "\n",
        "As colunas removidas acima são apenas para fim de exemplo, você pode usar as colunas que quiser e inclusive criar novas colunas com dados que achar importantes!\n"
      ]
    },
    {
      "cell_type": "markdown",
      "metadata": {
        "id": "YQszRmpmgyRe"
      },
      "source": [
        "### Tratamento de de variáveis categóricas\n",
        "\n",
        "Como mencionado antes, os computadores não são bons com variáveis \"categóricas\" (ou strings).\n",
        "\n",
        "Dado uma coluna com variável categórica, o que podemos realizar é a codificação dessa coluna em múltiplas colunas contendo variáveis binárias. Esse processo é chamado de \"one-hot-encoding\" ou \"dummy encoding\". Se você não é familiarizado com esses termos, você pode pesquisar mais sobre isso na internet :)"
      ]
    },
    {
      "cell_type": "code",
      "metadata": {
        "id": "ls7NtBIIgyRf"
      },
      "source": [
        "# Tratando variáveis categóricas com o método Pandas ``get_dummies()''\n",
        "df_training = pd.get_dummies(df_training_dataset_rmcolumns, columns=['profissao'])\n",
        "df_training.tail()"
      ],
      "execution_count": null,
      "outputs": []
    },
    {
      "cell_type": "markdown",
      "metadata": {
        "id": "r2ddWKzigySK"
      },
      "source": [
        "# Atenção!\n",
        "\n",
        "A coluna **categoria** deve ser mantida como uma string. Você não precisa processar/codificar a variável-alvo."
      ]
    },
    {
      "cell_type": "markdown",
      "metadata": {
        "id": "NfWHGCr-gySL"
      },
      "source": [
        "<hr>"
      ]
    },
    {
      "cell_type": "markdown",
      "metadata": {
        "id": "naQP807ogySO"
      },
      "source": [
        "# Fase de treinamento"
      ]
    },
    {
      "cell_type": "markdown",
      "metadata": {
        "id": "-pfkwYgHgySR"
      },
      "source": [
        "### Selecionando FEATURES e definindo a variável TARGET"
      ]
    },
    {
      "cell_type": "code",
      "metadata": {
        "id": "xMkGeH0OgyST",
        "outputId": "56677180-4ebf-4135-ad1b-51d62453bce5"
      },
      "source": [
        "df_training.columns"
      ],
      "execution_count": null,
      "outputs": [
        {
          "output_type": "execute_result",
          "data": {
            "text/plain": [
              "Index(['horas_semanais_estudo', 'total_modulos', 'modulos_finalizados',\n",
              "       'certificados', 'categoria', 'graduacao_Bacharelado',\n",
              "       'graduacao_Especialização', 'graduacao_Licenciatura', 'graduacao_MBA',\n",
              "       'graduacao_Nao Especificado', 'graduacao_SEM FORMAÇÃO',\n",
              "       'graduacao_Tecnólogo'],\n",
              "      dtype='object')"
            ]
          },
          "metadata": {
            "tags": []
          },
          "execution_count": 16
        }
      ]
    },
    {
      "cell_type": "code",
      "metadata": {
        "id": "i3y3zb2ngySd"
      },
      "source": [
        "features = df_training[\n",
        "    [\n",
        "        'horas_semanais_estudo', 'total_modulos', 'modulos_finalizados',\n",
        "       'certificados', 'graduacao_Bacharelado',\n",
        "       'graduacao_Especialização', 'graduacao_Licenciatura', 'graduacao_MBA',\n",
        "       'graduacao_Nao Especificado', 'graduacao_SEM FORMAÇÃO',\n",
        "       'graduacao_Tecnólogo'\n",
        "    ]\n",
        "]\n",
        "target = df_training['categoria']  ## NÃO TROQUE O NOME DA VARIÁVEL TARGET."
      ],
      "execution_count": null,
      "outputs": []
    },
    {
      "cell_type": "markdown",
      "metadata": {
        "id": "m99yLeYggyS2"
      },
      "source": [
        "# Balanceamento das classes com a técnica oversampling SMOTE"
      ]
    },
    {
      "cell_type": "code",
      "metadata": {
        "id": "iLhCMDo6gyS3"
      },
      "source": [
        "smt = SMOTE()\n",
        "\n",
        "X, y = smt.fit_resample(features, target)"
      ],
      "execution_count": null,
      "outputs": []
    },
    {
      "cell_type": "markdown",
      "metadata": {
        "id": "SoDjMwS4gyTB"
      },
      "source": [
        "### Dividindo nosso conjunto de dados em conjuntos de treinamento e teste"
      ]
    },
    {
      "cell_type": "code",
      "metadata": {
        "id": "Dd5FxmhrgyTC"
      },
      "source": [
        "X_train, X_test, y_train, y_test = train_test_split(X, y, test_size=0.3, random_state=133)"
      ],
      "execution_count": null,
      "outputs": []
    },
    {
      "cell_type": "markdown",
      "metadata": {
        "id": "atJiYSzIgyTK"
      },
      "source": [
        "# Criando um modelo baseado em árvore de decisão"
      ]
    },
    {
      "cell_type": "code",
      "metadata": {
        "id": "ftQcLP87gyTM",
        "outputId": "f8ea4945-4a75-4f36-a7fe-a0d4ec2be9a3"
      },
      "source": [
        "dtc = DecisionTreeClassifier(max_depth=10, min_samples_leaf=5)\n",
        "\n",
        "dtc.fit(X_train, y_train)\n",
        "\n",
        "y_pred = dtc.predict(X_test)\n",
        "\n",
        "print(\"Acurácia: {}%\".format(100*round(accuracy_score(y_test, y_pred), 2)))"
      ],
      "execution_count": null,
      "outputs": [
        {
          "output_type": "stream",
          "text": [
            "Acurácia: 78.0%\n"
          ],
          "name": "stdout"
        }
      ]
    },
    {
      "cell_type": "code",
      "metadata": {
        "id": "AL26cjG-gyTv"
      },
      "source": [
        "print (classification_report(y_test, y_pred))"
      ],
      "execution_count": null,
      "outputs": []
    },
    {
      "cell_type": "markdown",
      "metadata": {
        "id": "rZtp---NgyT_"
      },
      "source": [
        "### Analisando a qualidade do modelo através da matriz de confusão"
      ]
    },
    {
      "cell_type": "code",
      "metadata": {
        "id": "Bf9xpZGygyUB",
        "outputId": "c369b7a0-d049-4a5d-e6d7-dd0314925167"
      },
      "source": [
        "plot_confusion_matrix(confusion_matrix(y_test, y_pred), ['parfil1', 'perfil2', 'perfil3', 'perfil4', 'perfil5', 'perfil6'])"
      ],
      "execution_count": null,
      "outputs": [
        {
          "output_type": "display_data",
          "data": {
            "text/plain": [
              "<Figure size 576x432 with 2 Axes>"
            ],
            "image/png": "[encoded data removed]"
          },
          "metadata": {
            "tags": [],
            "needs_background": "light"
          }
        }
      ]
    },
    {
      "cell_type": "markdown",
      "metadata": {
        "id": "ERMu6TfQgyUX"
      },
      "source": [
        "## Criando um modelo XBoost"
      ]
    },
    {
      "cell_type": "code",
      "metadata": {
        "id": "5e_dNbkUgyUY",
        "outputId": "11ae8f24-895f-4603-b722-de43eb04e0d9"
      },
      "source": [
        "xg_boost = XGBClassifier()\n",
        "\n",
        "xg_boost.fit(X_train, y_train)\n",
        "\n",
        "y_pred = xg_boost.predict(X_test)\n",
        "\n",
        "print(\"Acurácia: {}%\".format(100*round(accuracy_score(y_test, y_pred), 2)))"
      ],
      "execution_count": null,
      "outputs": [
        {
          "output_type": "stream",
          "text": [
            "Acurácia: 78.0%\n"
          ],
          "name": "stdout"
        }
      ]
    },
    {
      "cell_type": "code",
      "metadata": {
        "id": "TJHNMO_-gyUx",
        "outputId": "48bf140c-a46b-4a86-d1bc-074650fffd33"
      },
      "source": [
        "print (classification_report(y_test, y_pred))"
      ],
      "execution_count": null,
      "outputs": [
        {
          "output_type": "stream",
          "text": [
            "              precision    recall  f1-score   support\n",
            "\n",
            "     perfil1       0.83      0.79      0.81      1364\n",
            "     perfil2       0.76      0.80      0.78      1423\n",
            "     perfil3       0.92      0.74      0.82      1344\n",
            "     perfil4       0.64      0.82      0.72      1319\n",
            "     perfil5       0.87      0.77      0.82      1310\n",
            "     perfil6       0.76      0.78      0.77      1411\n",
            "\n",
            "    accuracy                           0.78      8171\n",
            "   macro avg       0.80      0.78      0.79      8171\n",
            "weighted avg       0.80      0.78      0.79      8171\n",
            "\n"
          ],
          "name": "stdout"
        }
      ]
    },
    {
      "cell_type": "code",
      "metadata": {
        "id": "9VseRuPbgyU6",
        "outputId": "4d4cf0a9-5f63-4006-8686-65f27f3670b6"
      },
      "source": [
        "plot_confusion_matrix(confusion_matrix(y_test, y_pred), ['parfil1', 'perfil2', 'perfil3', 'perfil4', 'perfil5', 'perfil6'])"
      ],
      "execution_count": null,
      "outputs": [
        {
          "output_type": "display_data",
          "data": {
            "text/plain": [
              "<Figure size 576x432 with 2 Axes>"
            ],
            "image/png": "[encoded data removed]"
          },
          "metadata": {
            "tags": [],
            "needs_background": "light"
          }
        }
      ]
    },
    {
      "cell_type": "markdown",
      "metadata": {
        "id": "Un-WJXD1gyVB"
      },
      "source": [
        "## Criando um modelo Naive Bayes"
      ]
    },
    {
      "cell_type": "code",
      "metadata": {
        "id": "LjC4JpQVgyVC",
        "outputId": "178c82a0-4b08-4cfa-f527-68f44c79f865"
      },
      "source": [
        "gnv = GaussianNB()\n",
        "\n",
        "gnv.fit(X_train, y_train)\n",
        "\n",
        "y_pred = gnv.predict(X_test)\n",
        "\n",
        "print(\"Acurácia: {}%\".format(100*round(accuracy_score(y_test, y_pred), 2)))"
      ],
      "execution_count": null,
      "outputs": [
        {
          "output_type": "stream",
          "text": [
            "Acurácia: 46.0%\n"
          ],
          "name": "stdout"
        }
      ]
    },
    {
      "cell_type": "code",
      "metadata": {
        "id": "YNVLynNwgyV_",
        "outputId": "a9d323c5-f570-4707-af1b-bc8ec1b90845"
      },
      "source": [
        "print (classification_report(y_test, y_pred))"
      ],
      "execution_count": null,
      "outputs": [
        {
          "output_type": "stream",
          "text": [
            "              precision    recall  f1-score   support\n",
            "\n",
            "     perfil1       0.84      0.76      0.79      1364\n",
            "     perfil2       0.69      0.53      0.60      1423\n",
            "     perfil3       0.40      0.57      0.47      1344\n",
            "     perfil4       0.27      0.09      0.13      1319\n",
            "     perfil5       0.24      0.37      0.29      1310\n",
            "     perfil6       0.43      0.46      0.44      1411\n",
            "\n",
            "    accuracy                           0.46      8171\n",
            "   macro avg       0.48      0.46      0.46      8171\n",
            "weighted avg       0.48      0.46      0.46      8171\n",
            "\n"
          ],
          "name": "stdout"
        }
      ]
    },
    {
      "cell_type": "code",
      "metadata": {
        "id": "LPwns4NDgyWI",
        "outputId": "9f501bf7-adb1-4039-f63c-dfa5e3486e13"
      },
      "source": [
        "plot_confusion_matrix(confusion_matrix(y_test, y_pred), ['parfil1', 'perfil2', 'perfil3', 'perfil4', 'perfil5', 'perfil6'])"
      ],
      "execution_count": null,
      "outputs": [
        {
          "output_type": "display_data",
          "data": {
            "text/plain": [
              "<Figure size 576x432 with 2 Axes>"
            ],
            "image/png": "[encoded data removed]"
          },
          "metadata": {
            "tags": [],
            "needs_background": "light"
          }
        }
      ]
    },
    {
      "cell_type": "markdown",
      "metadata": {
        "id": "CnjVTev-gyWO"
      },
      "source": [
        "## Criando um modelo KNN"
      ]
    },
    {
      "cell_type": "code",
      "metadata": {
        "id": "Aqleoc5YgyWQ",
        "outputId": "5e59eeb5-6c64-475d-f486-48bacfdaff16"
      },
      "source": [
        "knn = KNeighborsClassifier(n_neighbors=3)\n",
        "\n",
        "knn.fit(X_train, y_train)\n",
        "\n",
        "y_pred = knn.predict(X_test)\n",
        "\n",
        "print(\"Acurácia: {}%\".format(100*round(accuracy_score(y_test, y_pred), 2)))"
      ],
      "execution_count": null,
      "outputs": [
        {
          "output_type": "stream",
          "text": [
            "Acurácia: 72.0%\n"
          ],
          "name": "stdout"
        }
      ]
    },
    {
      "cell_type": "code",
      "metadata": {
        "id": "L_K1SlRCgyWV",
        "outputId": "3640613e-9517-4190-d9ec-15401cff4c2a"
      },
      "source": [
        "print (classification_report(y_test, y_pred))"
      ],
      "execution_count": null,
      "outputs": [
        {
          "output_type": "stream",
          "text": [
            "              precision    recall  f1-score   support\n",
            "\n",
            "     perfil1       0.61      0.72      0.66      1364\n",
            "     perfil2       0.65      0.56      0.60      1423\n",
            "     perfil3       0.78      0.84      0.81      1344\n",
            "     perfil4       0.73      0.79      0.76      1319\n",
            "     perfil5       0.80      0.79      0.80      1310\n",
            "     perfil6       0.80      0.66      0.72      1411\n",
            "\n",
            "    accuracy                           0.72      8171\n",
            "   macro avg       0.73      0.73      0.72      8171\n",
            "weighted avg       0.73      0.72      0.72      8171\n",
            "\n"
          ],
          "name": "stdout"
        }
      ]
    },
    {
      "cell_type": "code",
      "metadata": {
        "id": "cD0wyb1xgyWd",
        "outputId": "56ed977b-88e8-44e7-bd98-be51a33f41a6"
      },
      "source": [
        "plot_confusion_matrix(confusion_matrix(y_test, y_pred), ['parfil1', 'perfil2', 'perfil3', 'perfil4', 'perfil5', 'perfil6'])"
      ],
      "execution_count": null,
      "outputs": [
        {
          "output_type": "display_data",
          "data": {
            "text/plain": [
              "<Figure size 576x432 with 2 Axes>"
            ],
            "image/png": "[encoded data removed]"
          },
          "metadata": {
            "tags": [],
            "needs_background": "light"
          }
        }
      ]
    },
    {
      "cell_type": "code",
      "metadata": {
        "id": "b030beLbgyWi"
      },
      "source": [
        "import matplotlib.pyplot as plt\n",
        "import numpy as np\n",
        "import itertools\n",
        "\n",
        "\n",
        "def plot_confusion_matrix(cm, target_names, title='Confusion matrix', cmap=None, normalize=True):\n",
        "    accuracy = np.trace(cm) / float(np.sum(cm))\n",
        "    misclass = 1 - accuracy\n",
        "    if cmap is None:\n",
        "        cmap = plt.get_cmap('Blues')\n",
        "    plt.figure(figsize=(8, 6))\n",
        "    plt.imshow(cm, interpolation='nearest', cmap=cmap)\n",
        "    plt.title(title)\n",
        "    plt.colorbar()\n",
        "    if target_names is not None:\n",
        "        tick_marks = np.arange(len(target_names))\n",
        "        plt.xticks(tick_marks, target_names, rotation=45)\n",
        "        plt.yticks(tick_marks, target_names)\n",
        "    if normalize:\n",
        "        cm = cm.astype('float') / cm.sum(axis=1)[:, np.newaxis]\n",
        "    thresh = cm.max() / 1.5 if normalize else cm.max() / 2\n",
        "    for i, j in itertools.product(range(cm.shape[0]), range(cm.shape[1])):\n",
        "        if normalize:\n",
        "            plt.text(j, i, \"{:0.4f}\".format(cm[i, j]),\n",
        "                     horizontalalignment=\"center\",\n",
        "                     color=\"white\" if cm[i, j] > thresh else \"black\")\n",
        "        else:\n",
        "            plt.text(j, i, \"{:,}\".format(cm[i, j]),\n",
        "                     horizontalalignment=\"center\",\n",
        "                     color=\"white\" if cm[i, j] > thresh else \"black\")\n",
        "    plt.tight_layout()\n",
        "    plt.ylabel('True label')\n",
        "    plt.xlabel('Predicted label\\naccuracy={:0.4f}; misclass={:0.4f}'.format(accuracy, misclass))\n",
        "    plt.show()"
      ],
      "execution_count": null,
      "outputs": []
    },
    {
      "cell_type": "markdown",
      "metadata": {
        "id": "DygXsIvugyWm"
      },
      "source": [
        "<hr>"
      ]
    },
    {
      "cell_type": "markdown",
      "metadata": {
        "id": "FlNdfIdngyWn"
      },
      "source": [
        "## Scoring dos dados necessários para entregar a solução"
      ]
    },
    {
      "cell_type": "markdown",
      "metadata": {
        "id": "MiMB8gFSgyWo"
      },
      "source": [
        "Como entrega da sua solução, esperamos os resultados classificados no seguinte dataset chamado \"to_be_scored.csv\":"
      ]
    },
    {
      "cell_type": "markdown",
      "metadata": {
        "id": "2w01NduSgyWp"
      },
      "source": [
        "### Download da \"folha de respostas\""
      ]
    },
    {
      "cell_type": "code",
      "metadata": {
        "scrolled": false,
        "id": "1cHwBdnZgyWq",
        "outputId": "0484f57a-5a31-44f4-f09c-f9db6bdfaa1a"
      },
      "source": [
        "!wget --no-check-certificate --content-disposition https://raw.githubusercontent.com/vanderlei-test/dataset-3/master/to_be_scored.csv\n",
        "df_to_be_scored = pd.read_csv(r'to_be_scored.csv')\n",
        "df_to_be_scored.tail()"
      ],
      "execution_count": null,
      "outputs": [
        {
          "output_type": "stream",
          "text": [
            "--2020-09-04 19:31:37--  https://raw.githubusercontent.com/vanderlei-test/dataset-3/master/to_be_scored.csv\r\n",
            "Resolving raw.githubusercontent.com (raw.githubusercontent.com)... 151.101.48.133\r\n",
            "Connecting to raw.githubusercontent.com (raw.githubusercontent.com)|151.101.48.133|:443... connected.\r\n",
            "HTTP request sent, awaiting response... 200 OK\r\n",
            "Length: 96291 (94K) [text/plain]\r\n",
            "Saving to: ‘to_be_scored.csv’\r\n",
            "\r\n",
            "\r 0% [                                       ] 0           --.-K/s              \r100%[======================================>] 96,291      --.-K/s   in 0.006s  \r\n",
            "\r\n",
            "2020-09-04 19:31:37 (16.6 MB/s) - ‘to_be_scored.csv’ saved [96291/96291]\r\n",
            "\r\n"
          ],
          "name": "stdout"
        },
        {
          "output_type": "execute_result",
          "data": {
            "text/plain": [
              "            id       graduacao                universidade    profissao  \\\n",
              "995  741745189    SEM FORMAÇÃO  UNIVERSIDADE NOVE DE JULHO  Coordenador   \n",
              "996  996387882     Bacharelado                        UFRN     Assessor   \n",
              "997  668869418     Bacharelado                      UFSCar      Gerente   \n",
              "998  676531718       Tecnólogo                       FATEC       Outros   \n",
              "999  388402340  Especialização                        UNIP     Advogado   \n",
              "\n",
              "     organizacao  pretende_fazer_cursos_lit  interesse_mba_lit  \\\n",
              "995     Borracha                          0                  0   \n",
              "996       Estado                          1                  1   \n",
              "997  Siderurgica                          1                  1   \n",
              "998     servicos                          1                  1   \n",
              "999    Montadora                          0                  0   \n",
              "\n",
              "     importante_ter_certificado  horas_semanais_estudo  \\\n",
              "995                           1                      2   \n",
              "996                           1                      8   \n",
              "997                           1                      9   \n",
              "998                           1                      9   \n",
              "999                           1                      9   \n",
              "\n",
              "              como_conheceu_lit  total_modulos  modulos_iniciados  \\\n",
              "995                     YouTube            245                 63   \n",
              "996                      Google            163                111   \n",
              "997                    Facebook             56                 10   \n",
              "998  Mídia (revista/jornal/web)            138                 60   \n",
              "999  Mídia (revista/jornal/web)             22                 20   \n",
              "\n",
              "     modulos_finalizados  certificados  \n",
              "995                   45             1  \n",
              "996                   96             0  \n",
              "997                    4             0  \n",
              "998                   30             0  \n",
              "999                   19             0  "
            ],
            "text/html": [
              "<div>\n",
              "<style scoped>\n",
              "    .dataframe tbody tr th:only-of-type {\n",
              "        vertical-align: middle;\n",
              "    }\n",
              "\n",
              "    .dataframe tbody tr th {\n",
              "        vertical-align: top;\n",
              "    }\n",
              "\n",
              "    .dataframe thead th {\n",
              "        text-align: right;\n",
              "    }\n",
              "</style>\n",
              "<table border=\"1\" class=\"dataframe\">\n",
              "  <thead>\n",
              "    <tr style=\"text-align: right;\">\n",
              "      <th></th>\n",
              "      <th>id</th>\n",
              "      <th>graduacao</th>\n",
              "      <th>universidade</th>\n",
              "      <th>profissao</th>\n",
              "      <th>organizacao</th>\n",
              "      <th>pretende_fazer_cursos_lit</th>\n",
              "      <th>interesse_mba_lit</th>\n",
              "      <th>importante_ter_certificado</th>\n",
              "      <th>horas_semanais_estudo</th>\n",
              "      <th>como_conheceu_lit</th>\n",
              "      <th>total_modulos</th>\n",
              "      <th>modulos_iniciados</th>\n",
              "      <th>modulos_finalizados</th>\n",
              "      <th>certificados</th>\n",
              "    </tr>\n",
              "  </thead>\n",
              "  <tbody>\n",
              "    <tr>\n",
              "      <th>995</th>\n",
              "      <td>741745189</td>\n",
              "      <td>SEM FORMAÇÃO</td>\n",
              "      <td>UNIVERSIDADE NOVE DE JULHO</td>\n",
              "      <td>Coordenador</td>\n",
              "      <td>Borracha</td>\n",
              "      <td>0</td>\n",
              "      <td>0</td>\n",
              "      <td>1</td>\n",
              "      <td>2</td>\n",
              "      <td>YouTube</td>\n",
              "      <td>245</td>\n",
              "      <td>63</td>\n",
              "      <td>45</td>\n",
              "      <td>1</td>\n",
              "    </tr>\n",
              "    <tr>\n",
              "      <th>996</th>\n",
              "      <td>996387882</td>\n",
              "      <td>Bacharelado</td>\n",
              "      <td>UFRN</td>\n",
              "      <td>Assessor</td>\n",
              "      <td>Estado</td>\n",
              "      <td>1</td>\n",
              "      <td>1</td>\n",
              "      <td>1</td>\n",
              "      <td>8</td>\n",
              "      <td>Google</td>\n",
              "      <td>163</td>\n",
              "      <td>111</td>\n",
              "      <td>96</td>\n",
              "      <td>0</td>\n",
              "    </tr>\n",
              "    <tr>\n",
              "      <th>997</th>\n",
              "      <td>668869418</td>\n",
              "      <td>Bacharelado</td>\n",
              "      <td>UFSCar</td>\n",
              "      <td>Gerente</td>\n",
              "      <td>Siderurgica</td>\n",
              "      <td>1</td>\n",
              "      <td>1</td>\n",
              "      <td>1</td>\n",
              "      <td>9</td>\n",
              "      <td>Facebook</td>\n",
              "      <td>56</td>\n",
              "      <td>10</td>\n",
              "      <td>4</td>\n",
              "      <td>0</td>\n",
              "    </tr>\n",
              "    <tr>\n",
              "      <th>998</th>\n",
              "      <td>676531718</td>\n",
              "      <td>Tecnólogo</td>\n",
              "      <td>FATEC</td>\n",
              "      <td>Outros</td>\n",
              "      <td>servicos</td>\n",
              "      <td>1</td>\n",
              "      <td>1</td>\n",
              "      <td>1</td>\n",
              "      <td>9</td>\n",
              "      <td>Mídia (revista/jornal/web)</td>\n",
              "      <td>138</td>\n",
              "      <td>60</td>\n",
              "      <td>30</td>\n",
              "      <td>0</td>\n",
              "    </tr>\n",
              "    <tr>\n",
              "      <th>999</th>\n",
              "      <td>388402340</td>\n",
              "      <td>Especialização</td>\n",
              "      <td>UNIP</td>\n",
              "      <td>Advogado</td>\n",
              "      <td>Montadora</td>\n",
              "      <td>0</td>\n",
              "      <td>0</td>\n",
              "      <td>1</td>\n",
              "      <td>9</td>\n",
              "      <td>Mídia (revista/jornal/web)</td>\n",
              "      <td>22</td>\n",
              "      <td>20</td>\n",
              "      <td>19</td>\n",
              "      <td>0</td>\n",
              "    </tr>\n",
              "  </tbody>\n",
              "</table>\n",
              "</div>"
            ]
          },
          "metadata": {
            "tags": []
          },
          "execution_count": 57
        }
      ]
    },
    {
      "cell_type": "markdown",
      "metadata": {
        "id": "_n9xuJVRgyWu"
      },
      "source": [
        "# Atenção!\n",
        "\n",
        "O dataframe ``to_be_scored`` é a sua \"folha de respostas\". Note que a coluna \"categoria\" não existe nessa amostra, que não pode ser então utilizada para treino de modelos de aprendizado supervisionado."
      ]
    },
    {
      "cell_type": "code",
      "metadata": {
        "scrolled": true,
        "id": "zU4TwGpRgyWv"
      },
      "source": [
        "df_to_be_scored.info()"
      ],
      "execution_count": null,
      "outputs": []
    },
    {
      "cell_type": "markdown",
      "metadata": {
        "id": "FpdzkWuJgyWy"
      },
      "source": [
        "<hr>\n",
        "\n",
        "# Atenção!\n",
        "\n",
        "# Para poder aplicar seu modelo e classificar a folha de respostas, você precisa primeiro aplicar as mesmas transformações com colunas que você aplicou no dataset de treino.\n",
        "\n",
        "# Não remova ou adicione linhas na folha de respostas. \n",
        "\n",
        "# Não altere a ordem das linhas na folha de respostas.\n",
        "\n",
        "# Ao final, as 1000 entradas devem estar classificadas, com os valores previstos em uma coluna chamada \"target\"\n",
        "\n",
        "<hr>"
      ]
    },
    {
      "cell_type": "markdown",
      "metadata": {
        "id": "d0p3MJb-gyW0"
      },
      "source": [
        "Na célula abaixo, repetimos rapidamente os mesmos passos de pré-processamento usados no exemplo dado com árvore de decisão"
      ]
    },
    {
      "cell_type": "code",
      "metadata": {
        "id": "a9hlgZQxgyW1"
      },
      "source": [
        "# 1 - Removendo as colunas que não serão utilizadas no modelo.\n",
        "df_to_be_scored_1 = df_to_be_scored.drop(columns=['id', 'universidade', 'organizacao', 'profissao', 'pretende_fazer_cursos_lit', 'importante_ter_certificado', 'como_conheceu_lit', 'interesse_mba_lit', 'modulos_iniciados'])\n",
        "\n",
        "# 2 - Aplica o valor 'Nao Especificado' a todas as linhas da coluna 'Graduacao' com missing values (null).\n",
        "s_imputer = SimpleImputer(missing_values=np.nan, strategy='constant', fill_value='Nao Especificado', verbose=0, copy=True)\n",
        "# Define a coluna 'graduacao' como dataset\n",
        "s_imputer.fit(X=df_to_be_scored_1[[\"graduacao\"]])\n",
        "#aplica o simple imputer transform\n",
        "df_to_be_scored_1[\"graduacao\"] = s_imputer.transform(X=df_to_be_scored_1[[\"graduacao\"]])\n",
        "\n",
        "# 3 - Para os valores missing values da coluna Certificados será atribuido o valor 0.\n",
        "s_imputer = SimpleImputer(missing_values=np.nan, strategy='constant', fill_value=0, verbose=0, copy=True)\n",
        "# Define a coluna 'certificados' como dataset\n",
        "s_imputer.fit(X=df_to_be_scored_1[[\"certificados\"]])\n",
        "#aplica o simple imputer transform\n",
        "df_to_be_scored_1[\"certificados\"] = s_imputer.transform(X=df_to_be_scored_1[[\"certificados\"]])\n",
        "\n",
        "# 4 - Transformação da coluna Certificados em binária (0 - não tem certificado e 1 - tem 1 ou mais certificado)\n",
        "df_to_be_scored_1[\"certificados\"] = df_to_be_scored_1[\"certificados\"].apply(lambda x: 1 if x > 0 else x)\n",
        "\n",
        "# 5 - Atualiza os missing values da coluna horas_semanais_estudo c/ a mediana.\n",
        "s_imputer = SimpleImputer(missing_values=np.nan, strategy='median', verbose=0, copy=True)\n",
        "# Define a coluna 'horas_semanais_estudo' como dataset\n",
        "s_imputer.fit(X=df_to_be_scored_1[[\"horas_semanais_estudo\"]])\n",
        "#aplica o simple imputer transform\n",
        "df_to_be_scored_1[\"horas_semanais_estudo\"] = s_imputer.transform(X=df_to_be_scored_1[[\"horas_semanais_estudo\"]])\n",
        "\n",
        "# 6 - Atualiza os missing values da coluna total_modulos c/ a mediana.\n",
        "s_imputer = SimpleImputer(missing_values=np.nan, strategy='median', verbose=0, copy=True)\n",
        "# Define a coluna 'total_modulos' como dataset\n",
        "s_imputer.fit(X=df_to_be_scored_1[[\"total_modulos\"]])\n",
        "#aplica o simple imputer transform\n",
        "df_to_be_scored_1[\"total_modulos\"] = s_imputer.transform(X=df_to_be_scored_1[[\"total_modulos\"]])\n",
        "\n",
        "# 7 - Atualiza os missing values da coluna modulos_finalizados c/ a mediana.\n",
        "s_imputer = SimpleImputer(missing_values=np.nan, strategy='median', verbose=0, copy=True)\n",
        "# Define a coluna 'modulos_finalizados' como dataset\n",
        "s_imputer.fit(X=df_to_be_scored_1[[\"modulos_finalizados\"]])\n",
        "#aplica o simple imputer transform\n",
        "df_to_be_scored_1[\"modulos_finalizados\"] = s_imputer.transform(X=df_to_be_scored_1[[\"modulos_finalizados\"]])\n",
        "\n",
        "# 8 - Ajuste dos outliers das colunas \"modulos_finalizados\" e \"total_modulos\"\n",
        "outliers = HandleOutliers(columns=[\"modulos_finalizados\", \"total_modulos\"])\n",
        "# Aplicando a transformação ``HandleOutliers`` ao conjunto de dados base\n",
        "outliers.fit(X=df_to_be_scored_1)\n",
        "# Reconstruindo um DataFrame Pandas com o resultado da transformação\n",
        "df_to_be_scored_2 = pd.DataFrame.from_records(data=outliers.transform(X=df_to_be_scored_1),)\n",
        "\n",
        "# 4 - Encoding com \"dummy variables\"\n",
        "df_to_be_scored_3 = pd.get_dummies(df_to_be_scored_2, columns=['graduacao'])\n",
        "\n",
        "df_to_be_scored_3.tail()"
      ],
      "execution_count": null,
      "outputs": []
    },
    {
      "cell_type": "markdown",
      "metadata": {
        "id": "6D4VztzKgyW5"
      },
      "source": [
        "<hr>\n",
        "\n",
        "Pode ser verificado abaixo que as colunas da folha de resposta agora são idênticas às que foram usadas para treinar o modelo:"
      ]
    },
    {
      "cell_type": "code",
      "metadata": {
        "id": "lUjwVyc2gyW6"
      },
      "source": [
        "df_training[\n",
        "    [\n",
        "        'pretende_fazer_cursos_lit', 'interesse_mba_lit',\n",
        "        'importante_ter_certificado', 'horas_semanais_estudo', 'total_modulos',\n",
        "        'modulos_iniciados', 'modulos_finalizados', 'certificados',\n",
        "        'profissao_0', 'profissao_Advogado', 'profissao_Analista',\n",
        "        'profissao_Analista Senior', 'profissao_Assessor',\n",
        "        'profissao_Coordenador', 'profissao_Diretor', 'profissao_Engenheiro',\n",
        "        'profissao_Gerente', 'profissao_Outros', 'profissao_SEM EXPERIÊNCIA',\n",
        "        'profissao_Supervisor', 'profissao_Sócio/Dono/Proprietário'\n",
        "    ]\n",
        "].columns\n",
        "\n",
        "features = df_training[\n",
        "    [\n",
        "        'horas_semanais_estudo', 'total_modulos', 'modulos_finalizados',\n",
        "       'certificados', 'graduacao_Bacharelado',\n",
        "       'graduacao_Especialização', 'graduacao_Licenciatura', 'graduacao_MBA',\n",
        "       'graduacao_Nao Especificado', 'graduacao_SEM FORMAÇÃO',\n",
        "       'graduacao_Tecnólogo'\n",
        "    ]\n",
        "]"
      ],
      "execution_count": null,
      "outputs": []
    },
    {
      "cell_type": "code",
      "metadata": {
        "id": "aXUtyFdAgyXD"
      },
      "source": [
        "df_to_be_scored_3.columns"
      ],
      "execution_count": null,
      "outputs": []
    },
    {
      "cell_type": "markdown",
      "metadata": {
        "id": "DCmhgC4ogyXJ"
      },
      "source": [
        "# Atenção\n",
        "\n",
        "Para todas colunas que não existirem no \"df_to_be_scored\", você pode usar a técnica abaixo para adicioná-las:"
      ]
    },
    {
      "cell_type": "code",
      "metadata": {
        "id": "PM1GR3dJgyXK"
      },
      "source": [
        "df_to_be_scored_3['graduacao_Nao Especificado'] = 0"
      ],
      "execution_count": null,
      "outputs": []
    },
    {
      "cell_type": "code",
      "metadata": {
        "scrolled": false,
        "id": "hp_HpjYGgyXQ"
      },
      "source": [
        "y_pred = dtc.predict(df_to_be_scored_3)\n",
        "df_to_be_scored_3['target'] = y_pred\n",
        "df_to_be_scored_3.tail()"
      ],
      "execution_count": null,
      "outputs": []
    },
    {
      "cell_type": "markdown",
      "metadata": {
        "id": "TxUFcuXHgyXX"
      },
      "source": [
        "### Salvando a folha de respostas como um arquivo .csv para ser submetido"
      ]
    },
    {
      "cell_type": "code",
      "metadata": {
        "id": "Qxwci17DgyXY"
      },
      "source": [
        "project.save_data(file_name=\"results.csv\", data=df_to_be_scored_3.to_csv(index=False))"
      ],
      "execution_count": null,
      "outputs": []
    },
    {
      "cell_type": "markdown",
      "metadata": {
        "id": "PUWFCh0LgyXd"
      },
      "source": [
        "# Atenção\n",
        "\n",
        "# A execução da célula acima irá criar um novo \"data asset\" no seu projeto no Watson Studio. Você precisará realizar o download deste arquivo juntamente com este notebook e criar um arquivo zip com os arquivos **results.csv** e **notebook.ipynb** para submissão. (os arquivos devem estar nomeados desta forma)"
      ]
    },
    {
      "cell_type": "markdown",
      "metadata": {
        "id": "5LobcjCIgyXe"
      },
      "source": [
        "<hr>\n",
        "\n",
        "## Parabéns!\n",
        "\n",
        "Se você já está satisfeito com a sua solução, vá até a página abaixo e envie os arquivos necessários para submissão.\n",
        "\n",
        "# https://lit.maratona.dev\n"
      ]
    },
    {
      "cell_type": "code",
      "metadata": {
        "id": "LRIm8NIngyXf"
      },
      "source": [
        ""
      ],
      "execution_count": null,
      "outputs": []
    }
  ]
}